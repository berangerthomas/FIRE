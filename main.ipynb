{
   "cells": [
      {
         "cell_type": "code",
         "execution_count": 7,
         "metadata": {},
         "outputs": [],
         "source": [
            "import yaml\n",
            "from ultralytics import YOLO\n",
            "import os\n",
            "from pathlib import Path"
         ]
      },
      {
         "cell_type": "code",
         "execution_count": 8,
         "metadata": {},
         "outputs": [],
         "source": [
            "# Load the data configuration\n",
            "with open(\"data.yaml\", \"r\") as file:\n",
            "    data_config = yaml.safe_load(file)"
         ]
      },
      {
         "cell_type": "code",
         "execution_count": 9,
         "metadata": {},
         "outputs": [
            {
               "name": "stdout",
               "output_type": "stream",
               "text": [
                  "Downloading https://github.com/ultralytics/assets/releases/download/v8.3.0/yolo11n.pt to 'yolo11n.pt'...\n"
               ]
            },
            {
               "name": "stderr",
               "output_type": "stream",
               "text": [
                  "100%|██████████| 5.35M/5.35M [00:00<00:00, 35.6MB/s]\n"
               ]
            }
         ],
         "source": [
            "# Initialize YOLO model\n",
            "model = YOLO(\"yolo11n.pt\")  # Load the pre-trained YOLOv8 large model"
         ]
      },
      {
         "cell_type": "code",
         "execution_count": 10,
         "metadata": {},
         "outputs": [],
         "source": [
            "# Training configuration\n",
            "training_args = {\n",
            "    \"data\": \"data.yaml\",  # Path to data.yaml file\n",
            "    \"epochs\": 100,  # Number of epochs\n",
            "    \"imgsz\": 640,  # Image size\n",
            "    \"batch\": 16,  # Batch size\n",
            "    \"device\": \"cpu\",\n",
            "    \"workers\": 8,  # Number of worker threads\n",
            "    \"patience\": 50,  # Early stopping patience\n",
            "    \"save\": True,  # Save training results\n",
            "    \"cache\": False,  # Cache images for faster training\n",
            "}"
         ]
      },
      {
         "cell_type": "code",
         "execution_count": 11,
         "metadata": {},
         "outputs": [
            {
               "name": "stdout",
               "output_type": "stream",
               "text": [
                  "Ultralytics 8.3.74  Python-3.13.1 torch-2.6.0+cpu CPU (Intel Core(TM) Ultra 7 155H)\n",
                  "\u001b[34m\u001b[1mengine\\trainer: \u001b[0mtask=detect, mode=train, model=yolo11n.pt, data=data.yaml, epochs=100, time=None, patience=50, batch=16, imgsz=640, save=True, save_period=-1, cache=False, device=cpu, workers=8, project=None, name=train9, exist_ok=False, pretrained=True, optimizer=auto, verbose=True, seed=0, deterministic=True, single_cls=False, rect=False, cos_lr=False, close_mosaic=10, resume=False, amp=True, fraction=1.0, profile=False, freeze=None, multi_scale=False, overlap_mask=True, mask_ratio=4, dropout=0.0, val=True, split=val, save_json=False, save_hybrid=False, conf=None, iou=0.7, max_det=300, half=False, dnn=False, plots=True, source=None, vid_stride=1, stream_buffer=False, visualize=False, augment=False, agnostic_nms=False, classes=None, retina_masks=False, embed=None, show=False, save_frames=False, save_txt=False, save_conf=False, save_crop=False, show_labels=True, show_conf=True, show_boxes=True, line_width=None, format=torchscript, keras=False, optimize=False, int8=False, dynamic=False, simplify=True, opset=None, workspace=None, nms=False, lr0=0.01, lrf=0.01, momentum=0.937, weight_decay=0.0005, warmup_epochs=3.0, warmup_momentum=0.8, warmup_bias_lr=0.1, box=7.5, cls=0.5, dfl=1.5, pose=12.0, kobj=1.0, nbs=64, hsv_h=0.015, hsv_s=0.7, hsv_v=0.4, degrees=0.0, translate=0.1, scale=0.5, shear=0.0, perspective=0.0, flipud=0.0, fliplr=0.5, bgr=0.0, mosaic=1.0, mixup=0.0, copy_paste=0.0, copy_paste_mode=flip, auto_augment=randaugment, erasing=0.4, crop_fraction=1.0, cfg=None, tracker=botsort.yaml, save_dir=runs\\detect\\train9\n",
                  "Overriding model.yaml nc=80 with nc=2\n",
                  "\n",
                  "                   from  n    params  module                                       arguments                     \n",
                  "  0                  -1  1       464  ultralytics.nn.modules.conv.Conv             [3, 16, 3, 2]                 \n",
                  "  1                  -1  1      4672  ultralytics.nn.modules.conv.Conv             [16, 32, 3, 2]                \n",
                  "  2                  -1  1      6640  ultralytics.nn.modules.block.C3k2            [32, 64, 1, False, 0.25]      \n",
                  "  3                  -1  1     36992  ultralytics.nn.modules.conv.Conv             [64, 64, 3, 2]                \n",
                  "  4                  -1  1     26080  ultralytics.nn.modules.block.C3k2            [64, 128, 1, False, 0.25]     \n",
                  "  5                  -1  1    147712  ultralytics.nn.modules.conv.Conv             [128, 128, 3, 2]              \n",
                  "  6                  -1  1     87040  ultralytics.nn.modules.block.C3k2            [128, 128, 1, True]           \n",
                  "  7                  -1  1    295424  ultralytics.nn.modules.conv.Conv             [128, 256, 3, 2]              \n",
                  "  8                  -1  1    346112  ultralytics.nn.modules.block.C3k2            [256, 256, 1, True]           \n",
                  "  9                  -1  1    164608  ultralytics.nn.modules.block.SPPF            [256, 256, 5]                 \n",
                  " 10                  -1  1    249728  ultralytics.nn.modules.block.C2PSA           [256, 256, 1]                 \n",
                  " 11                  -1  1         0  torch.nn.modules.upsampling.Upsample         [None, 2, 'nearest']          \n",
                  " 12             [-1, 6]  1         0  ultralytics.nn.modules.conv.Concat           [1]                           \n",
                  " 13                  -1  1    111296  ultralytics.nn.modules.block.C3k2            [384, 128, 1, False]          \n",
                  " 14                  -1  1         0  torch.nn.modules.upsampling.Upsample         [None, 2, 'nearest']          \n",
                  " 15             [-1, 4]  1         0  ultralytics.nn.modules.conv.Concat           [1]                           \n",
                  " 16                  -1  1     32096  ultralytics.nn.modules.block.C3k2            [256, 64, 1, False]           \n",
                  " 17                  -1  1     36992  ultralytics.nn.modules.conv.Conv             [64, 64, 3, 2]                \n",
                  " 18            [-1, 13]  1         0  ultralytics.nn.modules.conv.Concat           [1]                           \n",
                  " 19                  -1  1     86720  ultralytics.nn.modules.block.C3k2            [192, 128, 1, False]          \n",
                  " 20                  -1  1    147712  ultralytics.nn.modules.conv.Conv             [128, 128, 3, 2]              \n",
                  " 21            [-1, 10]  1         0  ultralytics.nn.modules.conv.Concat           [1]                           \n",
                  " 22                  -1  1    378880  ultralytics.nn.modules.block.C3k2            [384, 256, 1, True]           \n",
                  " 23        [16, 19, 22]  1    431062  ultralytics.nn.modules.head.Detect           [2, [64, 128, 256]]           \n",
                  "YOLO11n summary: 319 layers, 2,590,230 parameters, 2,590,214 gradients, 6.4 GFLOPs\n",
                  "\n",
                  "Transferred 448/499 items from pretrained weights\n",
                  "Freezing layer 'model.23.dfl.conv.weight'\n"
               ]
            },
            {
               "name": "stderr",
               "output_type": "stream",
               "text": [
                  "\u001b[34m\u001b[1mtrain: \u001b[0mScanning D:\\GitHub\\FIRE\\datasets\\train\\labels.cache... 42 images, 0 backgrounds, 0 corrupt: 100%|██████████| 42/42 [00:00<?, ?it/s]\n",
                  "\u001b[34m\u001b[1mval: \u001b[0mScanning D:\\GitHub\\FIRE\\datasets\\valid\\labels.cache... 12 images, 0 backgrounds, 0 corrupt: 100%|██████████| 12/12 [00:00<?, ?it/s]"
               ]
            },
            {
               "name": "stdout",
               "output_type": "stream",
               "text": [
                  "Plotting labels to runs\\detect\\train9\\labels.jpg... \n"
               ]
            },
            {
               "name": "stderr",
               "output_type": "stream",
               "text": [
                  "\n"
               ]
            },
            {
               "name": "stdout",
               "output_type": "stream",
               "text": [
                  "\u001b[34m\u001b[1moptimizer:\u001b[0m 'optimizer=auto' found, ignoring 'lr0=0.01' and 'momentum=0.937' and determining best 'optimizer', 'lr0' and 'momentum' automatically... \n",
                  "\u001b[34m\u001b[1moptimizer:\u001b[0m AdamW(lr=0.001667, momentum=0.9) with parameter groups 81 weight(decay=0.0), 88 weight(decay=0.0005), 87 bias(decay=0.0)\n",
                  "Image sizes 640 train, 640 val\n",
                  "Using 0 dataloader workers\n",
                  "Logging results to \u001b[1mruns\\detect\\train9\u001b[0m\n",
                  "Starting training for 100 epochs...\n",
                  "\n",
                  "      Epoch    GPU_mem   box_loss   cls_loss   dfl_loss  Instances       Size\n"
               ]
            },
            {
               "name": "stderr",
               "output_type": "stream",
               "text": [
                  "      1/100         0G      1.537      3.508      1.889         24        640: 100%|██████████| 3/3 [00:12<00:00,  4.23s/it]\n",
                  "                 Class     Images  Instances      Box(P          R      mAP50  mAP50-95): 100%|██████████| 1/1 [00:01<00:00,  1.65s/it]"
               ]
            },
            {
               "name": "stdout",
               "output_type": "stream",
               "text": [
                  "                   all         12         12    0.00305      0.917     0.0161    0.00626\n"
               ]
            },
            {
               "name": "stderr",
               "output_type": "stream",
               "text": [
                  "\n"
               ]
            },
            {
               "name": "stdout",
               "output_type": "stream",
               "text": [
                  "\n",
                  "      Epoch    GPU_mem   box_loss   cls_loss   dfl_loss  Instances       Size\n"
               ]
            },
            {
               "name": "stderr",
               "output_type": "stream",
               "text": [
                  "      2/100         0G      1.314      3.562      1.658         17        640: 100%|██████████| 3/3 [00:11<00:00,  3.91s/it]\n",
                  "                 Class     Images  Instances      Box(P          R      mAP50  mAP50-95): 100%|██████████| 1/1 [00:01<00:00,  1.68s/it]"
               ]
            },
            {
               "name": "stdout",
               "output_type": "stream",
               "text": [
                  "                   all         12         12    0.00306      0.917      0.063     0.0244\n"
               ]
            },
            {
               "name": "stderr",
               "output_type": "stream",
               "text": [
                  "\n"
               ]
            },
            {
               "name": "stdout",
               "output_type": "stream",
               "text": [
                  "\n",
                  "      Epoch    GPU_mem   box_loss   cls_loss   dfl_loss  Instances       Size\n"
               ]
            },
            {
               "name": "stderr",
               "output_type": "stream",
               "text": [
                  "      3/100         0G     0.9591      3.307      1.425         16        640: 100%|██████████| 3/3 [00:15<00:00,  5.09s/it]\n",
                  "                 Class     Images  Instances      Box(P          R      mAP50  mAP50-95): 100%|██████████| 1/1 [00:01<00:00,  1.66s/it]"
               ]
            },
            {
               "name": "stdout",
               "output_type": "stream",
               "text": [
                  "                   all         12         12    0.00337          1      0.175      0.101\n"
               ]
            },
            {
               "name": "stderr",
               "output_type": "stream",
               "text": [
                  "\n"
               ]
            },
            {
               "name": "stdout",
               "output_type": "stream",
               "text": [
                  "\n",
                  "      Epoch    GPU_mem   box_loss   cls_loss   dfl_loss  Instances       Size\n"
               ]
            },
            {
               "name": "stderr",
               "output_type": "stream",
               "text": [
                  "      4/100         0G     0.9052      3.145      1.272         18        640: 100%|██████████| 3/3 [00:10<00:00,  3.55s/it]\n",
                  "                 Class     Images  Instances      Box(P          R      mAP50  mAP50-95): 100%|██████████| 1/1 [00:01<00:00,  1.06s/it]"
               ]
            },
            {
               "name": "stdout",
               "output_type": "stream",
               "text": [
                  "                   all         12         12    0.00335          1      0.426      0.298\n"
               ]
            },
            {
               "name": "stderr",
               "output_type": "stream",
               "text": [
                  "\n"
               ]
            },
            {
               "name": "stdout",
               "output_type": "stream",
               "text": [
                  "\n",
                  "      Epoch    GPU_mem   box_loss   cls_loss   dfl_loss  Instances       Size\n"
               ]
            },
            {
               "name": "stderr",
               "output_type": "stream",
               "text": [
                  "      5/100         0G     0.8067      2.954      1.199         16        640: 100%|██████████| 3/3 [00:09<00:00,  3.11s/it]\n",
                  "                 Class     Images  Instances      Box(P          R      mAP50  mAP50-95): 100%|██████████| 1/1 [00:01<00:00,  1.05s/it]"
               ]
            },
            {
               "name": "stdout",
               "output_type": "stream",
               "text": [
                  "                   all         12         12    0.00334          1      0.482      0.366\n"
               ]
            },
            {
               "name": "stderr",
               "output_type": "stream",
               "text": [
                  "\n"
               ]
            },
            {
               "name": "stdout",
               "output_type": "stream",
               "text": [
                  "\n",
                  "      Epoch    GPU_mem   box_loss   cls_loss   dfl_loss  Instances       Size\n"
               ]
            },
            {
               "name": "stderr",
               "output_type": "stream",
               "text": [
                  "      6/100         0G     0.7712      2.582      1.174         28        640: 100%|██████████| 3/3 [00:10<00:00,  3.40s/it]\n",
                  "                 Class     Images  Instances      Box(P          R      mAP50  mAP50-95): 100%|██████████| 1/1 [00:01<00:00,  1.71s/it]"
               ]
            },
            {
               "name": "stdout",
               "output_type": "stream",
               "text": [
                  "                   all         12         12    0.00334          1      0.516      0.406\n"
               ]
            },
            {
               "name": "stderr",
               "output_type": "stream",
               "text": [
                  "\n"
               ]
            },
            {
               "name": "stdout",
               "output_type": "stream",
               "text": [
                  "\n",
                  "      Epoch    GPU_mem   box_loss   cls_loss   dfl_loss  Instances       Size\n"
               ]
            },
            {
               "name": "stderr",
               "output_type": "stream",
               "text": [
                  "      7/100         0G     0.7866      2.451      1.241         29        640: 100%|██████████| 3/3 [00:14<00:00,  4.99s/it]\n",
                  "                 Class     Images  Instances      Box(P          R      mAP50  mAP50-95): 100%|██████████| 1/1 [00:02<00:00,  2.38s/it]"
               ]
            },
            {
               "name": "stdout",
               "output_type": "stream",
               "text": [
                  "                   all         12         12    0.00334          1      0.629      0.509\n"
               ]
            },
            {
               "name": "stderr",
               "output_type": "stream",
               "text": [
                  "\n"
               ]
            },
            {
               "name": "stdout",
               "output_type": "stream",
               "text": [
                  "\n",
                  "      Epoch    GPU_mem   box_loss   cls_loss   dfl_loss  Instances       Size\n"
               ]
            },
            {
               "name": "stderr",
               "output_type": "stream",
               "text": [
                  "      8/100         0G     0.7604      2.423      1.134         22        640: 100%|██████████| 3/3 [00:13<00:00,  4.64s/it]\n",
                  "                 Class     Images  Instances      Box(P          R      mAP50  mAP50-95): 100%|██████████| 1/1 [00:01<00:00,  1.91s/it]"
               ]
            },
            {
               "name": "stdout",
               "output_type": "stream",
               "text": [
                  "                   all         12         12    0.00334          1      0.663      0.531\n"
               ]
            },
            {
               "name": "stderr",
               "output_type": "stream",
               "text": [
                  "\n"
               ]
            },
            {
               "name": "stdout",
               "output_type": "stream",
               "text": [
                  "\n",
                  "      Epoch    GPU_mem   box_loss   cls_loss   dfl_loss  Instances       Size\n"
               ]
            },
            {
               "name": "stderr",
               "output_type": "stream",
               "text": [
                  "      9/100         0G     0.8498      2.166      1.223         19        640: 100%|██████████| 3/3 [00:15<00:00,  5.00s/it]\n",
                  "                 Class     Images  Instances      Box(P          R      mAP50  mAP50-95): 100%|██████████| 1/1 [00:01<00:00,  1.91s/it]"
               ]
            },
            {
               "name": "stdout",
               "output_type": "stream",
               "text": [
                  "                   all         12         12    0.00337          1      0.621      0.405\n"
               ]
            },
            {
               "name": "stderr",
               "output_type": "stream",
               "text": [
                  "\n"
               ]
            },
            {
               "name": "stdout",
               "output_type": "stream",
               "text": [
                  "\n",
                  "      Epoch    GPU_mem   box_loss   cls_loss   dfl_loss  Instances       Size\n"
               ]
            },
            {
               "name": "stderr",
               "output_type": "stream",
               "text": [
                  "     10/100         0G     0.7902      1.911      1.172         18        640: 100%|██████████| 3/3 [00:13<00:00,  4.44s/it]\n",
                  "                 Class     Images  Instances      Box(P          R      mAP50  mAP50-95): 100%|██████████| 1/1 [00:01<00:00,  1.99s/it]"
               ]
            },
            {
               "name": "stdout",
               "output_type": "stream",
               "text": [
                  "                   all         12         12    0.00338          1      0.578      0.351\n"
               ]
            },
            {
               "name": "stderr",
               "output_type": "stream",
               "text": [
                  "\n"
               ]
            },
            {
               "name": "stdout",
               "output_type": "stream",
               "text": [
                  "\n",
                  "      Epoch    GPU_mem   box_loss   cls_loss   dfl_loss  Instances       Size\n"
               ]
            },
            {
               "name": "stderr",
               "output_type": "stream",
               "text": [
                  "     11/100         0G     0.7965      1.789      1.191         21        640: 100%|██████████| 3/3 [00:14<00:00,  4.88s/it]\n",
                  "                 Class     Images  Instances      Box(P          R      mAP50  mAP50-95): 100%|██████████| 1/1 [00:01<00:00,  1.90s/it]"
               ]
            },
            {
               "name": "stdout",
               "output_type": "stream",
               "text": [
                  "                   all         12         12    0.00347          1      0.563      0.253\n"
               ]
            },
            {
               "name": "stderr",
               "output_type": "stream",
               "text": [
                  "\n"
               ]
            },
            {
               "name": "stdout",
               "output_type": "stream",
               "text": [
                  "\n",
                  "      Epoch    GPU_mem   box_loss   cls_loss   dfl_loss  Instances       Size\n"
               ]
            },
            {
               "name": "stderr",
               "output_type": "stream",
               "text": [
                  "     12/100         0G     0.7965      1.604      1.167         20        640: 100%|██████████| 3/3 [00:14<00:00,  4.70s/it]\n",
                  "                 Class     Images  Instances      Box(P          R      mAP50  mAP50-95): 100%|██████████| 1/1 [00:01<00:00,  1.83s/it]"
               ]
            },
            {
               "name": "stdout",
               "output_type": "stream",
               "text": [
                  "                   all         12         12    0.00345          1      0.674      0.362\n"
               ]
            },
            {
               "name": "stderr",
               "output_type": "stream",
               "text": [
                  "\n"
               ]
            },
            {
               "name": "stdout",
               "output_type": "stream",
               "text": [
                  "\n",
                  "      Epoch    GPU_mem   box_loss   cls_loss   dfl_loss  Instances       Size\n"
               ]
            },
            {
               "name": "stderr",
               "output_type": "stream",
               "text": [
                  "     13/100         0G     0.7993       1.65      1.187         16        640: 100%|██████████| 3/3 [00:14<00:00,  4.99s/it]\n",
                  "                 Class     Images  Instances      Box(P          R      mAP50  mAP50-95): 100%|██████████| 1/1 [00:01<00:00,  1.87s/it]"
               ]
            },
            {
               "name": "stdout",
               "output_type": "stream",
               "text": [
                  "                   all         12         12    0.00309      0.917      0.644      0.329\n"
               ]
            },
            {
               "name": "stderr",
               "output_type": "stream",
               "text": [
                  "\n"
               ]
            },
            {
               "name": "stdout",
               "output_type": "stream",
               "text": [
                  "\n",
                  "      Epoch    GPU_mem   box_loss   cls_loss   dfl_loss  Instances       Size\n"
               ]
            },
            {
               "name": "stderr",
               "output_type": "stream",
               "text": [
                  "     14/100         0G      0.739      1.383      1.101         28        640: 100%|██████████| 3/3 [00:14<00:00,  4.74s/it]\n",
                  "                 Class     Images  Instances      Box(P          R      mAP50  mAP50-95): 100%|██████████| 1/1 [00:02<00:00,  2.10s/it]"
               ]
            },
            {
               "name": "stdout",
               "output_type": "stream",
               "text": [
                  "                   all         12         12    0.00338          1      0.681      0.427\n"
               ]
            },
            {
               "name": "stderr",
               "output_type": "stream",
               "text": [
                  "\n"
               ]
            },
            {
               "name": "stdout",
               "output_type": "stream",
               "text": [
                  "\n",
                  "      Epoch    GPU_mem   box_loss   cls_loss   dfl_loss  Instances       Size\n"
               ]
            },
            {
               "name": "stderr",
               "output_type": "stream",
               "text": [
                  "     15/100         0G      0.712       1.53      1.123         17        640: 100%|██████████| 3/3 [00:16<00:00,  5.42s/it]\n",
                  "                 Class     Images  Instances      Box(P          R      mAP50  mAP50-95): 100%|██████████| 1/1 [00:01<00:00,  1.75s/it]"
               ]
            },
            {
               "name": "stdout",
               "output_type": "stream",
               "text": [
                  "                   all         12         12          1      0.148      0.859      0.617\n"
               ]
            },
            {
               "name": "stderr",
               "output_type": "stream",
               "text": [
                  "\n"
               ]
            },
            {
               "name": "stdout",
               "output_type": "stream",
               "text": [
                  "\n",
                  "      Epoch    GPU_mem   box_loss   cls_loss   dfl_loss  Instances       Size\n"
               ]
            },
            {
               "name": "stderr",
               "output_type": "stream",
               "text": [
                  "     16/100         0G     0.7839      1.493      1.136         25        640: 100%|██████████| 3/3 [00:12<00:00,  4.25s/it]\n",
                  "                 Class     Images  Instances      Box(P          R      mAP50  mAP50-95): 100%|██████████| 1/1 [00:01<00:00,  1.81s/it]"
               ]
            },
            {
               "name": "stdout",
               "output_type": "stream",
               "text": [
                  "                   all         12         12          1      0.161      0.859       0.67\n"
               ]
            },
            {
               "name": "stderr",
               "output_type": "stream",
               "text": [
                  "\n"
               ]
            },
            {
               "name": "stdout",
               "output_type": "stream",
               "text": [
                  "\n",
                  "      Epoch    GPU_mem   box_loss   cls_loss   dfl_loss  Instances       Size\n"
               ]
            },
            {
               "name": "stderr",
               "output_type": "stream",
               "text": [
                  "     17/100         0G     0.7089      1.407      1.121         17        640: 100%|██████████| 3/3 [00:12<00:00,  4.27s/it]\n",
                  "                 Class     Images  Instances      Box(P          R      mAP50  mAP50-95): 100%|██████████| 1/1 [00:01<00:00,  1.68s/it]"
               ]
            },
            {
               "name": "stdout",
               "output_type": "stream",
               "text": [
                  "                   all         12         12          1      0.161      0.869      0.596\n"
               ]
            },
            {
               "name": "stderr",
               "output_type": "stream",
               "text": [
                  "\n"
               ]
            },
            {
               "name": "stdout",
               "output_type": "stream",
               "text": [
                  "\n",
                  "      Epoch    GPU_mem   box_loss   cls_loss   dfl_loss  Instances       Size\n"
               ]
            },
            {
               "name": "stderr",
               "output_type": "stream",
               "text": [
                  "     18/100         0G     0.6826      1.291      1.147         20        640: 100%|██████████| 3/3 [00:12<00:00,  4.26s/it]\n",
                  "                 Class     Images  Instances      Box(P          R      mAP50  mAP50-95): 100%|██████████| 1/1 [00:01<00:00,  1.64s/it]"
               ]
            },
            {
               "name": "stdout",
               "output_type": "stream",
               "text": [
                  "                   all         12         12      0.778     0.0833      0.791      0.536\n"
               ]
            },
            {
               "name": "stderr",
               "output_type": "stream",
               "text": [
                  "\n"
               ]
            },
            {
               "name": "stdout",
               "output_type": "stream",
               "text": [
                  "\n",
                  "      Epoch    GPU_mem   box_loss   cls_loss   dfl_loss  Instances       Size\n"
               ]
            },
            {
               "name": "stderr",
               "output_type": "stream",
               "text": [
                  "     19/100         0G     0.7535      1.255      1.165         20        640: 100%|██████████| 3/3 [00:12<00:00,  4.33s/it]\n",
                  "                 Class     Images  Instances      Box(P          R      mAP50  mAP50-95): 100%|██████████| 1/1 [00:01<00:00,  1.81s/it]"
               ]
            },
            {
               "name": "stdout",
               "output_type": "stream",
               "text": [
                  "                   all         12         12      0.781     0.0833      0.671       0.45\n"
               ]
            },
            {
               "name": "stderr",
               "output_type": "stream",
               "text": [
                  "\n"
               ]
            },
            {
               "name": "stdout",
               "output_type": "stream",
               "text": [
                  "\n",
                  "      Epoch    GPU_mem   box_loss   cls_loss   dfl_loss  Instances       Size\n"
               ]
            },
            {
               "name": "stderr",
               "output_type": "stream",
               "text": [
                  "     20/100         0G      0.746      1.474      1.092         15        640: 100%|██████████| 3/3 [00:15<00:00,  5.21s/it]\n",
                  "                 Class     Images  Instances      Box(P          R      mAP50  mAP50-95): 100%|██████████| 1/1 [00:01<00:00,  1.54s/it]"
               ]
            },
            {
               "name": "stdout",
               "output_type": "stream",
               "text": [
                  "                   all         12         12          1      0.158      0.737       0.43\n"
               ]
            },
            {
               "name": "stderr",
               "output_type": "stream",
               "text": [
                  "\n"
               ]
            },
            {
               "name": "stdout",
               "output_type": "stream",
               "text": [
                  "\n",
                  "      Epoch    GPU_mem   box_loss   cls_loss   dfl_loss  Instances       Size\n"
               ]
            },
            {
               "name": "stderr",
               "output_type": "stream",
               "text": [
                  "     21/100         0G     0.7623        1.3      1.147         22        640: 100%|██████████| 3/3 [00:12<00:00,  4.25s/it]\n",
                  "                 Class     Images  Instances      Box(P          R      mAP50  mAP50-95): 100%|██████████| 1/1 [00:01<00:00,  1.73s/it]"
               ]
            },
            {
               "name": "stdout",
               "output_type": "stream",
               "text": [
                  "                   all         12         12      0.998      0.333      0.744      0.357\n"
               ]
            },
            {
               "name": "stderr",
               "output_type": "stream",
               "text": [
                  "\n"
               ]
            },
            {
               "name": "stdout",
               "output_type": "stream",
               "text": [
                  "\n",
                  "      Epoch    GPU_mem   box_loss   cls_loss   dfl_loss  Instances       Size\n"
               ]
            },
            {
               "name": "stderr",
               "output_type": "stream",
               "text": [
                  "     22/100         0G     0.7922       1.34      1.144         24        640: 100%|██████████| 3/3 [00:13<00:00,  4.45s/it]\n",
                  "                 Class     Images  Instances      Box(P          R      mAP50  mAP50-95): 100%|██████████| 1/1 [00:01<00:00,  1.88s/it]"
               ]
            },
            {
               "name": "stdout",
               "output_type": "stream",
               "text": [
                  "                   all         12         12      0.979      0.333      0.621      0.299\n"
               ]
            },
            {
               "name": "stderr",
               "output_type": "stream",
               "text": [
                  "\n"
               ]
            },
            {
               "name": "stdout",
               "output_type": "stream",
               "text": [
                  "\n",
                  "      Epoch    GPU_mem   box_loss   cls_loss   dfl_loss  Instances       Size\n"
               ]
            },
            {
               "name": "stderr",
               "output_type": "stream",
               "text": [
                  "     23/100         0G     0.7367      1.367      1.143         16        640: 100%|██████████| 3/3 [00:12<00:00,  4.27s/it]\n",
                  "                 Class     Images  Instances      Box(P          R      mAP50  mAP50-95): 100%|██████████| 1/1 [00:01<00:00,  1.65s/it]"
               ]
            },
            {
               "name": "stdout",
               "output_type": "stream",
               "text": [
                  "                   all         12         12      0.972       0.25      0.642      0.359\n"
               ]
            },
            {
               "name": "stderr",
               "output_type": "stream",
               "text": [
                  "\n"
               ]
            },
            {
               "name": "stdout",
               "output_type": "stream",
               "text": [
                  "\n",
                  "      Epoch    GPU_mem   box_loss   cls_loss   dfl_loss  Instances       Size\n"
               ]
            },
            {
               "name": "stderr",
               "output_type": "stream",
               "text": [
                  "     24/100         0G     0.7784      1.409      1.149         26        640: 100%|██████████| 3/3 [00:13<00:00,  4.34s/it]\n",
                  "                 Class     Images  Instances      Box(P          R      mAP50  mAP50-95): 100%|██████████| 1/1 [00:01<00:00,  1.63s/it]"
               ]
            },
            {
               "name": "stdout",
               "output_type": "stream",
               "text": [
                  "                   all         12         12      0.745      0.472      0.707      0.332\n"
               ]
            },
            {
               "name": "stderr",
               "output_type": "stream",
               "text": [
                  "\n"
               ]
            },
            {
               "name": "stdout",
               "output_type": "stream",
               "text": [
                  "\n",
                  "      Epoch    GPU_mem   box_loss   cls_loss   dfl_loss  Instances       Size\n"
               ]
            },
            {
               "name": "stderr",
               "output_type": "stream",
               "text": [
                  "     25/100         0G     0.7101      1.265      1.073         23        640: 100%|██████████| 3/3 [00:12<00:00,  4.15s/it]\n",
                  "                 Class     Images  Instances      Box(P          R      mAP50  mAP50-95): 100%|██████████| 1/1 [00:01<00:00,  1.61s/it]"
               ]
            },
            {
               "name": "stdout",
               "output_type": "stream",
               "text": [
                  "                   all         12         12       0.48        0.5       0.66      0.468\n"
               ]
            },
            {
               "name": "stderr",
               "output_type": "stream",
               "text": [
                  "\n"
               ]
            },
            {
               "name": "stdout",
               "output_type": "stream",
               "text": [
                  "\n",
                  "      Epoch    GPU_mem   box_loss   cls_loss   dfl_loss  Instances       Size\n"
               ]
            },
            {
               "name": "stderr",
               "output_type": "stream",
               "text": [
                  "     26/100         0G     0.7738      1.409       1.16         19        640: 100%|██████████| 3/3 [00:13<00:00,  4.39s/it]\n",
                  "                 Class     Images  Instances      Box(P          R      mAP50  mAP50-95): 100%|██████████| 1/1 [00:01<00:00,  1.58s/it]"
               ]
            },
            {
               "name": "stdout",
               "output_type": "stream",
               "text": [
                  "                   all         12         12      0.848       0.25      0.621      0.459\n"
               ]
            },
            {
               "name": "stderr",
               "output_type": "stream",
               "text": [
                  "\n"
               ]
            },
            {
               "name": "stdout",
               "output_type": "stream",
               "text": [
                  "\n",
                  "      Epoch    GPU_mem   box_loss   cls_loss   dfl_loss  Instances       Size\n"
               ]
            },
            {
               "name": "stderr",
               "output_type": "stream",
               "text": [
                  "     27/100         0G     0.7682      1.306      1.104         16        640: 100%|██████████| 3/3 [00:12<00:00,  4.06s/it]\n",
                  "                 Class     Images  Instances      Box(P          R      mAP50  mAP50-95): 100%|██████████| 1/1 [00:01<00:00,  1.65s/it]"
               ]
            },
            {
               "name": "stdout",
               "output_type": "stream",
               "text": [
                  "                   all         12         12      0.881       0.27      0.637       0.41\n"
               ]
            },
            {
               "name": "stderr",
               "output_type": "stream",
               "text": [
                  "\n"
               ]
            },
            {
               "name": "stdout",
               "output_type": "stream",
               "text": [
                  "\n",
                  "      Epoch    GPU_mem   box_loss   cls_loss   dfl_loss  Instances       Size\n"
               ]
            },
            {
               "name": "stderr",
               "output_type": "stream",
               "text": [
                  "     28/100         0G      0.649      1.199      1.102         22        640: 100%|██████████| 3/3 [00:09<00:00,  3.22s/it]\n",
                  "                 Class     Images  Instances      Box(P          R      mAP50  mAP50-95): 100%|██████████| 1/1 [00:01<00:00,  1.32s/it]"
               ]
            },
            {
               "name": "stdout",
               "output_type": "stream",
               "text": [
                  "                   all         12         12      0.433      0.744       0.65      0.413\n"
               ]
            },
            {
               "name": "stderr",
               "output_type": "stream",
               "text": [
                  "\n"
               ]
            },
            {
               "name": "stdout",
               "output_type": "stream",
               "text": [
                  "\n",
                  "      Epoch    GPU_mem   box_loss   cls_loss   dfl_loss  Instances       Size\n"
               ]
            },
            {
               "name": "stderr",
               "output_type": "stream",
               "text": [
                  "     29/100         0G     0.7837      1.505      1.187         17        640: 100%|██████████| 3/3 [00:12<00:00,  4.21s/it]\n",
                  "                 Class     Images  Instances      Box(P          R      mAP50  mAP50-95): 100%|██████████| 1/1 [00:01<00:00,  1.54s/it]"
               ]
            },
            {
               "name": "stdout",
               "output_type": "stream",
               "text": [
                  "                   all         12         12      0.433      0.744       0.65      0.413\n"
               ]
            },
            {
               "name": "stderr",
               "output_type": "stream",
               "text": [
                  "\n"
               ]
            },
            {
               "name": "stdout",
               "output_type": "stream",
               "text": [
                  "\n",
                  "      Epoch    GPU_mem   box_loss   cls_loss   dfl_loss  Instances       Size\n"
               ]
            },
            {
               "name": "stderr",
               "output_type": "stream",
               "text": [
                  "     30/100         0G     0.7458      1.329      1.064         23        640: 100%|██████████| 3/3 [00:12<00:00,  4.08s/it]\n",
                  "                 Class     Images  Instances      Box(P          R      mAP50  mAP50-95): 100%|██████████| 1/1 [00:01<00:00,  1.57s/it]"
               ]
            },
            {
               "name": "stdout",
               "output_type": "stream",
               "text": [
                  "                   all         12         12      0.647       0.67      0.723      0.391\n"
               ]
            },
            {
               "name": "stderr",
               "output_type": "stream",
               "text": [
                  "\n"
               ]
            },
            {
               "name": "stdout",
               "output_type": "stream",
               "text": [
                  "\n",
                  "      Epoch    GPU_mem   box_loss   cls_loss   dfl_loss  Instances       Size\n"
               ]
            },
            {
               "name": "stderr",
               "output_type": "stream",
               "text": [
                  "     31/100         0G     0.8312      1.396       1.22         16        640: 100%|██████████| 3/3 [00:12<00:00,  4.20s/it]\n",
                  "                 Class     Images  Instances      Box(P          R      mAP50  mAP50-95): 100%|██████████| 1/1 [00:01<00:00,  1.82s/it]"
               ]
            },
            {
               "name": "stdout",
               "output_type": "stream",
               "text": [
                  "                   all         12         12      0.683      0.707      0.856      0.569\n"
               ]
            },
            {
               "name": "stderr",
               "output_type": "stream",
               "text": [
                  "\n"
               ]
            },
            {
               "name": "stdout",
               "output_type": "stream",
               "text": [
                  "\n",
                  "      Epoch    GPU_mem   box_loss   cls_loss   dfl_loss  Instances       Size\n"
               ]
            },
            {
               "name": "stderr",
               "output_type": "stream",
               "text": [
                  "     32/100         0G     0.7686      1.249       1.11         27        640: 100%|██████████| 3/3 [00:13<00:00,  4.38s/it]\n",
                  "                 Class     Images  Instances      Box(P          R      mAP50  mAP50-95): 100%|██████████| 1/1 [00:01<00:00,  1.63s/it]"
               ]
            },
            {
               "name": "stdout",
               "output_type": "stream",
               "text": [
                  "                   all         12         12      0.726      0.772      0.879       0.59\n"
               ]
            },
            {
               "name": "stderr",
               "output_type": "stream",
               "text": [
                  "\n"
               ]
            },
            {
               "name": "stdout",
               "output_type": "stream",
               "text": [
                  "\n",
                  "      Epoch    GPU_mem   box_loss   cls_loss   dfl_loss  Instances       Size\n"
               ]
            },
            {
               "name": "stderr",
               "output_type": "stream",
               "text": [
                  "     33/100         0G     0.7695      1.269      1.164         20        640: 100%|██████████| 3/3 [00:12<00:00,  4.16s/it]\n",
                  "                 Class     Images  Instances      Box(P          R      mAP50  mAP50-95): 100%|██████████| 1/1 [00:01<00:00,  1.67s/it]"
               ]
            },
            {
               "name": "stdout",
               "output_type": "stream",
               "text": [
                  "                   all         12         12      0.726      0.772      0.879       0.59\n"
               ]
            },
            {
               "name": "stderr",
               "output_type": "stream",
               "text": [
                  "\n"
               ]
            },
            {
               "name": "stdout",
               "output_type": "stream",
               "text": [
                  "\n",
                  "      Epoch    GPU_mem   box_loss   cls_loss   dfl_loss  Instances       Size\n"
               ]
            },
            {
               "name": "stderr",
               "output_type": "stream",
               "text": [
                  "     34/100         0G     0.7743      1.333      1.114         13        640: 100%|██████████| 3/3 [00:12<00:00,  4.11s/it]\n",
                  "                 Class     Images  Instances      Box(P          R      mAP50  mAP50-95): 100%|██████████| 1/1 [00:01<00:00,  1.70s/it]"
               ]
            },
            {
               "name": "stdout",
               "output_type": "stream",
               "text": [
                  "                   all         12         12      0.724      0.746      0.964      0.655\n"
               ]
            },
            {
               "name": "stderr",
               "output_type": "stream",
               "text": [
                  "\n"
               ]
            },
            {
               "name": "stdout",
               "output_type": "stream",
               "text": [
                  "\n",
                  "      Epoch    GPU_mem   box_loss   cls_loss   dfl_loss  Instances       Size\n"
               ]
            },
            {
               "name": "stderr",
               "output_type": "stream",
               "text": [
                  "     35/100         0G      0.695      1.214      1.071         29        640: 100%|██████████| 3/3 [00:12<00:00,  4.27s/it]\n",
                  "                 Class     Images  Instances      Box(P          R      mAP50  mAP50-95): 100%|██████████| 1/1 [00:01<00:00,  1.50s/it]"
               ]
            },
            {
               "name": "stdout",
               "output_type": "stream",
               "text": [
                  "                   all         12         12      0.803      0.724      0.927      0.617\n"
               ]
            },
            {
               "name": "stderr",
               "output_type": "stream",
               "text": [
                  "\n"
               ]
            },
            {
               "name": "stdout",
               "output_type": "stream",
               "text": [
                  "\n",
                  "      Epoch    GPU_mem   box_loss   cls_loss   dfl_loss  Instances       Size\n"
               ]
            },
            {
               "name": "stderr",
               "output_type": "stream",
               "text": [
                  "     36/100         0G     0.7101        1.2      1.116         24        640: 100%|██████████| 3/3 [00:13<00:00,  4.60s/it]\n",
                  "                 Class     Images  Instances      Box(P          R      mAP50  mAP50-95): 100%|██████████| 1/1 [00:01<00:00,  1.63s/it]"
               ]
            },
            {
               "name": "stdout",
               "output_type": "stream",
               "text": [
                  "                   all         12         12      0.854      0.771      0.949      0.696\n"
               ]
            },
            {
               "name": "stderr",
               "output_type": "stream",
               "text": [
                  "\n"
               ]
            },
            {
               "name": "stdout",
               "output_type": "stream",
               "text": [
                  "\n",
                  "      Epoch    GPU_mem   box_loss   cls_loss   dfl_loss  Instances       Size\n"
               ]
            },
            {
               "name": "stderr",
               "output_type": "stream",
               "text": [
                  "     37/100         0G     0.6082      1.098      1.041         19        640: 100%|██████████| 3/3 [00:15<00:00,  5.14s/it]\n",
                  "                 Class     Images  Instances      Box(P          R      mAP50  mAP50-95): 100%|██████████| 1/1 [00:01<00:00,  1.83s/it]"
               ]
            },
            {
               "name": "stdout",
               "output_type": "stream",
               "text": [
                  "                   all         12         12      0.854      0.771      0.949      0.696\n"
               ]
            },
            {
               "name": "stderr",
               "output_type": "stream",
               "text": [
                  "\n"
               ]
            },
            {
               "name": "stdout",
               "output_type": "stream",
               "text": [
                  "\n",
                  "      Epoch    GPU_mem   box_loss   cls_loss   dfl_loss  Instances       Size\n"
               ]
            },
            {
               "name": "stderr",
               "output_type": "stream",
               "text": [
                  "     38/100         0G     0.6578      1.186      1.082         19        640: 100%|██████████| 3/3 [00:12<00:00,  4.22s/it]\n",
                  "                 Class     Images  Instances      Box(P          R      mAP50  mAP50-95): 100%|██████████| 1/1 [00:01<00:00,  1.46s/it]"
               ]
            },
            {
               "name": "stdout",
               "output_type": "stream",
               "text": [
                  "                   all         12         12      0.975      0.814      0.954      0.651\n"
               ]
            },
            {
               "name": "stderr",
               "output_type": "stream",
               "text": [
                  "\n"
               ]
            },
            {
               "name": "stdout",
               "output_type": "stream",
               "text": [
                  "\n",
                  "      Epoch    GPU_mem   box_loss   cls_loss   dfl_loss  Instances       Size\n"
               ]
            },
            {
               "name": "stderr",
               "output_type": "stream",
               "text": [
                  "     39/100         0G     0.6785      1.191      1.077         18        640: 100%|██████████| 3/3 [00:13<00:00,  4.62s/it]\n",
                  "                 Class     Images  Instances      Box(P          R      mAP50  mAP50-95): 100%|██████████| 1/1 [00:01<00:00,  1.58s/it]"
               ]
            },
            {
               "name": "stdout",
               "output_type": "stream",
               "text": [
                  "                   all         12         12      0.902      0.833      0.891      0.605\n"
               ]
            },
            {
               "name": "stderr",
               "output_type": "stream",
               "text": [
                  "\n"
               ]
            },
            {
               "name": "stdout",
               "output_type": "stream",
               "text": [
                  "\n",
                  "      Epoch    GPU_mem   box_loss   cls_loss   dfl_loss  Instances       Size\n"
               ]
            },
            {
               "name": "stderr",
               "output_type": "stream",
               "text": [
                  "     40/100         0G     0.7521      1.135      1.073         24        640: 100%|██████████| 3/3 [00:13<00:00,  4.43s/it]\n",
                  "                 Class     Images  Instances      Box(P          R      mAP50  mAP50-95): 100%|██████████| 1/1 [00:01<00:00,  1.74s/it]"
               ]
            },
            {
               "name": "stdout",
               "output_type": "stream",
               "text": [
                  "                   all         12         12      0.974       0.75      0.873      0.588\n"
               ]
            },
            {
               "name": "stderr",
               "output_type": "stream",
               "text": [
                  "\n"
               ]
            },
            {
               "name": "stdout",
               "output_type": "stream",
               "text": [
                  "\n",
                  "      Epoch    GPU_mem   box_loss   cls_loss   dfl_loss  Instances       Size\n"
               ]
            },
            {
               "name": "stderr",
               "output_type": "stream",
               "text": [
                  "     41/100         0G     0.7319      1.076      1.099         18        640: 100%|██████████| 3/3 [00:12<00:00,  4.28s/it]\n",
                  "                 Class     Images  Instances      Box(P          R      mAP50  mAP50-95): 100%|██████████| 1/1 [00:01<00:00,  1.56s/it]"
               ]
            },
            {
               "name": "stdout",
               "output_type": "stream",
               "text": [
                  "                   all         12         12      0.974       0.75      0.873      0.588\n"
               ]
            },
            {
               "name": "stderr",
               "output_type": "stream",
               "text": [
                  "\n"
               ]
            },
            {
               "name": "stdout",
               "output_type": "stream",
               "text": [
                  "\n",
                  "      Epoch    GPU_mem   box_loss   cls_loss   dfl_loss  Instances       Size\n"
               ]
            },
            {
               "name": "stderr",
               "output_type": "stream",
               "text": [
                  "     42/100         0G      0.746      1.127      1.138         16        640: 100%|██████████| 3/3 [00:12<00:00,  4.30s/it]\n",
                  "                 Class     Images  Instances      Box(P          R      mAP50  mAP50-95): 100%|██████████| 1/1 [00:01<00:00,  1.58s/it]"
               ]
            },
            {
               "name": "stdout",
               "output_type": "stream",
               "text": [
                  "                   all         12         12      0.728      0.725      0.778      0.532\n"
               ]
            },
            {
               "name": "stderr",
               "output_type": "stream",
               "text": [
                  "\n"
               ]
            },
            {
               "name": "stdout",
               "output_type": "stream",
               "text": [
                  "\n",
                  "      Epoch    GPU_mem   box_loss   cls_loss   dfl_loss  Instances       Size\n"
               ]
            },
            {
               "name": "stderr",
               "output_type": "stream",
               "text": [
                  "     43/100         0G     0.7382      1.175      1.127         21        640: 100%|██████████| 3/3 [00:13<00:00,  4.34s/it]\n",
                  "                 Class     Images  Instances      Box(P          R      mAP50  mAP50-95): 100%|██████████| 1/1 [00:01<00:00,  1.48s/it]"
               ]
            },
            {
               "name": "stdout",
               "output_type": "stream",
               "text": [
                  "                   all         12         12      0.826      0.812      0.883      0.599\n"
               ]
            },
            {
               "name": "stderr",
               "output_type": "stream",
               "text": [
                  "\n"
               ]
            },
            {
               "name": "stdout",
               "output_type": "stream",
               "text": [
                  "\n",
                  "      Epoch    GPU_mem   box_loss   cls_loss   dfl_loss  Instances       Size\n"
               ]
            },
            {
               "name": "stderr",
               "output_type": "stream",
               "text": [
                  "     44/100         0G     0.7228      1.035      1.056         22        640: 100%|██████████| 3/3 [00:11<00:00,  4.00s/it]\n",
                  "                 Class     Images  Instances      Box(P          R      mAP50  mAP50-95): 100%|██████████| 1/1 [00:01<00:00,  1.56s/it]"
               ]
            },
            {
               "name": "stdout",
               "output_type": "stream",
               "text": [
                  "                   all         12         12      0.662      0.874      0.877      0.582\n"
               ]
            },
            {
               "name": "stderr",
               "output_type": "stream",
               "text": [
                  "\n"
               ]
            },
            {
               "name": "stdout",
               "output_type": "stream",
               "text": [
                  "\n",
                  "      Epoch    GPU_mem   box_loss   cls_loss   dfl_loss  Instances       Size\n"
               ]
            },
            {
               "name": "stderr",
               "output_type": "stream",
               "text": [
                  "     45/100         0G     0.7154      1.093      1.093         18        640: 100%|██████████| 3/3 [00:12<00:00,  4.15s/it]\n",
                  "                 Class     Images  Instances      Box(P          R      mAP50  mAP50-95): 100%|██████████| 1/1 [00:01<00:00,  1.51s/it]"
               ]
            },
            {
               "name": "stdout",
               "output_type": "stream",
               "text": [
                  "                   all         12         12      0.662      0.874      0.877      0.582\n"
               ]
            },
            {
               "name": "stderr",
               "output_type": "stream",
               "text": [
                  "\n"
               ]
            },
            {
               "name": "stdout",
               "output_type": "stream",
               "text": [
                  "\n",
                  "      Epoch    GPU_mem   box_loss   cls_loss   dfl_loss  Instances       Size\n"
               ]
            },
            {
               "name": "stderr",
               "output_type": "stream",
               "text": [
                  "     46/100         0G     0.6725     0.9976       1.09         19        640: 100%|██████████| 3/3 [00:12<00:00,  4.15s/it]\n",
                  "                 Class     Images  Instances      Box(P          R      mAP50  mAP50-95): 100%|██████████| 1/1 [00:01<00:00,  1.75s/it]"
               ]
            },
            {
               "name": "stdout",
               "output_type": "stream",
               "text": [
                  "                   all         12         12      0.979       0.73      0.917       0.67\n"
               ]
            },
            {
               "name": "stderr",
               "output_type": "stream",
               "text": [
                  "\n"
               ]
            },
            {
               "name": "stdout",
               "output_type": "stream",
               "text": [
                  "\n",
                  "      Epoch    GPU_mem   box_loss   cls_loss   dfl_loss  Instances       Size\n"
               ]
            },
            {
               "name": "stderr",
               "output_type": "stream",
               "text": [
                  "     47/100         0G     0.6025     0.9599      1.049         20        640: 100%|██████████| 3/3 [00:13<00:00,  4.38s/it]\n",
                  "                 Class     Images  Instances      Box(P          R      mAP50  mAP50-95): 100%|██████████| 1/1 [00:01<00:00,  1.38s/it]"
               ]
            },
            {
               "name": "stdout",
               "output_type": "stream",
               "text": [
                  "                   all         12         12      0.974      0.813      0.944      0.702\n"
               ]
            },
            {
               "name": "stderr",
               "output_type": "stream",
               "text": [
                  "\n"
               ]
            },
            {
               "name": "stdout",
               "output_type": "stream",
               "text": [
                  "\n",
                  "      Epoch    GPU_mem   box_loss   cls_loss   dfl_loss  Instances       Size\n"
               ]
            },
            {
               "name": "stderr",
               "output_type": "stream",
               "text": [
                  "     48/100         0G     0.6628     0.9883      1.097         25        640: 100%|██████████| 3/3 [00:13<00:00,  4.35s/it]\n",
                  "                 Class     Images  Instances      Box(P          R      mAP50  mAP50-95): 100%|██████████| 1/1 [00:01<00:00,  1.40s/it]"
               ]
            },
            {
               "name": "stdout",
               "output_type": "stream",
               "text": [
                  "                   all         12         12      0.958      0.895      0.955      0.695\n"
               ]
            },
            {
               "name": "stderr",
               "output_type": "stream",
               "text": [
                  "\n"
               ]
            },
            {
               "name": "stdout",
               "output_type": "stream",
               "text": [
                  "\n",
                  "      Epoch    GPU_mem   box_loss   cls_loss   dfl_loss  Instances       Size\n"
               ]
            },
            {
               "name": "stderr",
               "output_type": "stream",
               "text": [
                  "     49/100         0G     0.6241      1.025      1.079         20        640: 100%|██████████| 3/3 [00:12<00:00,  4.27s/it]\n",
                  "                 Class     Images  Instances      Box(P          R      mAP50  mAP50-95): 100%|██████████| 1/1 [00:01<00:00,  1.41s/it]"
               ]
            },
            {
               "name": "stdout",
               "output_type": "stream",
               "text": [
                  "                   all         12         12      0.958      0.895      0.955      0.695\n"
               ]
            },
            {
               "name": "stderr",
               "output_type": "stream",
               "text": [
                  "\n"
               ]
            },
            {
               "name": "stdout",
               "output_type": "stream",
               "text": [
                  "\n",
                  "      Epoch    GPU_mem   box_loss   cls_loss   dfl_loss  Instances       Size\n"
               ]
            },
            {
               "name": "stderr",
               "output_type": "stream",
               "text": [
                  "     50/100         0G     0.6529     0.9423      1.069         23        640: 100%|██████████| 3/3 [00:12<00:00,  4.01s/it]\n",
                  "                 Class     Images  Instances      Box(P          R      mAP50  mAP50-95): 100%|██████████| 1/1 [00:01<00:00,  1.34s/it]"
               ]
            },
            {
               "name": "stdout",
               "output_type": "stream",
               "text": [
                  "                   all         12         12      0.983      0.908      0.963      0.737\n"
               ]
            },
            {
               "name": "stderr",
               "output_type": "stream",
               "text": [
                  "\n"
               ]
            },
            {
               "name": "stdout",
               "output_type": "stream",
               "text": [
                  "\n",
                  "      Epoch    GPU_mem   box_loss   cls_loss   dfl_loss  Instances       Size\n"
               ]
            },
            {
               "name": "stderr",
               "output_type": "stream",
               "text": [
                  "     51/100         0G     0.7721      1.045      1.137         19        640: 100%|██████████| 3/3 [00:12<00:00,  4.22s/it]\n",
                  "                 Class     Images  Instances      Box(P          R      mAP50  mAP50-95): 100%|██████████| 1/1 [00:01<00:00,  1.56s/it]"
               ]
            },
            {
               "name": "stdout",
               "output_type": "stream",
               "text": [
                  "                   all         12         12      0.966      0.904      0.959      0.762\n"
               ]
            },
            {
               "name": "stderr",
               "output_type": "stream",
               "text": [
                  "\n"
               ]
            },
            {
               "name": "stdout",
               "output_type": "stream",
               "text": [
                  "\n",
                  "      Epoch    GPU_mem   box_loss   cls_loss   dfl_loss  Instances       Size\n"
               ]
            },
            {
               "name": "stderr",
               "output_type": "stream",
               "text": [
                  "     52/100         0G     0.7428     0.9186      1.087         23        640: 100%|██████████| 3/3 [00:12<00:00,  4.23s/it]\n",
                  "                 Class     Images  Instances      Box(P          R      mAP50  mAP50-95): 100%|██████████| 1/1 [00:01<00:00,  1.52s/it]"
               ]
            },
            {
               "name": "stdout",
               "output_type": "stream",
               "text": [
                  "                   all         12         12      0.921       0.97      0.959      0.785\n"
               ]
            },
            {
               "name": "stderr",
               "output_type": "stream",
               "text": [
                  "\n"
               ]
            },
            {
               "name": "stdout",
               "output_type": "stream",
               "text": [
                  "\n",
                  "      Epoch    GPU_mem   box_loss   cls_loss   dfl_loss  Instances       Size\n"
               ]
            },
            {
               "name": "stderr",
               "output_type": "stream",
               "text": [
                  "     53/100         0G     0.5737     0.8288      1.005         26        640: 100%|██████████| 3/3 [00:12<00:00,  4.17s/it]\n",
                  "                 Class     Images  Instances      Box(P          R      mAP50  mAP50-95): 100%|██████████| 1/1 [00:01<00:00,  1.44s/it]"
               ]
            },
            {
               "name": "stdout",
               "output_type": "stream",
               "text": [
                  "                   all         12         12      0.921       0.97      0.959      0.785\n"
               ]
            },
            {
               "name": "stderr",
               "output_type": "stream",
               "text": [
                  "\n"
               ]
            },
            {
               "name": "stdout",
               "output_type": "stream",
               "text": [
                  "\n",
                  "      Epoch    GPU_mem   box_loss   cls_loss   dfl_loss  Instances       Size\n"
               ]
            },
            {
               "name": "stderr",
               "output_type": "stream",
               "text": [
                  "     54/100         0G     0.7022     0.9741      1.121         25        640: 100%|██████████| 3/3 [00:12<00:00,  4.29s/it]\n",
                  "                 Class     Images  Instances      Box(P          R      mAP50  mAP50-95): 100%|██████████| 1/1 [00:01<00:00,  1.47s/it]"
               ]
            },
            {
               "name": "stdout",
               "output_type": "stream",
               "text": [
                  "                   all         12         12      0.771       0.81      0.856      0.684\n"
               ]
            },
            {
               "name": "stderr",
               "output_type": "stream",
               "text": [
                  "\n"
               ]
            },
            {
               "name": "stdout",
               "output_type": "stream",
               "text": [
                  "\n",
                  "      Epoch    GPU_mem   box_loss   cls_loss   dfl_loss  Instances       Size\n"
               ]
            },
            {
               "name": "stderr",
               "output_type": "stream",
               "text": [
                  "     55/100         0G     0.6173     0.9635      1.082         20        640: 100%|██████████| 3/3 [00:15<00:00,  5.32s/it]\n",
                  "                 Class     Images  Instances      Box(P          R      mAP50  mAP50-95): 100%|██████████| 1/1 [00:01<00:00,  1.55s/it]"
               ]
            },
            {
               "name": "stdout",
               "output_type": "stream",
               "text": [
                  "                   all         12         12      0.795      0.815      0.855      0.647\n"
               ]
            },
            {
               "name": "stderr",
               "output_type": "stream",
               "text": [
                  "\n"
               ]
            },
            {
               "name": "stdout",
               "output_type": "stream",
               "text": [
                  "\n",
                  "      Epoch    GPU_mem   box_loss   cls_loss   dfl_loss  Instances       Size\n"
               ]
            },
            {
               "name": "stderr",
               "output_type": "stream",
               "text": [
                  "     56/100         0G     0.6263     0.9495      1.077         25        640: 100%|██████████| 3/3 [00:12<00:00,  4.32s/it]\n",
                  "                 Class     Images  Instances      Box(P          R      mAP50  mAP50-95): 100%|██████████| 1/1 [00:01<00:00,  1.60s/it]"
               ]
            },
            {
               "name": "stdout",
               "output_type": "stream",
               "text": [
                  "                   all         12         12      0.959      0.728      0.923      0.707\n"
               ]
            },
            {
               "name": "stderr",
               "output_type": "stream",
               "text": [
                  "\n"
               ]
            },
            {
               "name": "stdout",
               "output_type": "stream",
               "text": [
                  "\n",
                  "      Epoch    GPU_mem   box_loss   cls_loss   dfl_loss  Instances       Size\n"
               ]
            },
            {
               "name": "stderr",
               "output_type": "stream",
               "text": [
                  "     57/100         0G     0.5696     0.8779      1.032         20        640: 100%|██████████| 3/3 [00:13<00:00,  4.36s/it]\n",
                  "                 Class     Images  Instances      Box(P          R      mAP50  mAP50-95): 100%|██████████| 1/1 [00:01<00:00,  1.57s/it]"
               ]
            },
            {
               "name": "stdout",
               "output_type": "stream",
               "text": [
                  "                   all         12         12      0.959      0.728      0.923      0.707\n"
               ]
            },
            {
               "name": "stderr",
               "output_type": "stream",
               "text": [
                  "\n"
               ]
            },
            {
               "name": "stdout",
               "output_type": "stream",
               "text": [
                  "\n",
                  "      Epoch    GPU_mem   box_loss   cls_loss   dfl_loss  Instances       Size\n"
               ]
            },
            {
               "name": "stderr",
               "output_type": "stream",
               "text": [
                  "     58/100         0G     0.5962     0.8278      1.016         23        640: 100%|██████████| 3/3 [00:15<00:00,  5.02s/it]\n",
                  "                 Class     Images  Instances      Box(P          R      mAP50  mAP50-95): 100%|██████████| 1/1 [00:01<00:00,  1.40s/it]"
               ]
            },
            {
               "name": "stdout",
               "output_type": "stream",
               "text": [
                  "                   all         12         12      0.902      0.995      0.995      0.764\n"
               ]
            },
            {
               "name": "stderr",
               "output_type": "stream",
               "text": [
                  "\n"
               ]
            },
            {
               "name": "stdout",
               "output_type": "stream",
               "text": [
                  "\n",
                  "      Epoch    GPU_mem   box_loss   cls_loss   dfl_loss  Instances       Size\n"
               ]
            },
            {
               "name": "stderr",
               "output_type": "stream",
               "text": [
                  "     59/100         0G     0.6937     0.9949       1.09         20        640: 100%|██████████| 3/3 [00:13<00:00,  4.38s/it]\n",
                  "                 Class     Images  Instances      Box(P          R      mAP50  mAP50-95): 100%|██████████| 1/1 [00:02<00:00,  2.20s/it]"
               ]
            },
            {
               "name": "stdout",
               "output_type": "stream",
               "text": [
                  "                   all         12         12          1      0.988      0.995      0.778\n"
               ]
            },
            {
               "name": "stderr",
               "output_type": "stream",
               "text": [
                  "\n"
               ]
            },
            {
               "name": "stdout",
               "output_type": "stream",
               "text": [
                  "\n",
                  "      Epoch    GPU_mem   box_loss   cls_loss   dfl_loss  Instances       Size\n"
               ]
            },
            {
               "name": "stderr",
               "output_type": "stream",
               "text": [
                  "     60/100         0G     0.5693     0.9598      1.023         19        640: 100%|██████████| 3/3 [00:15<00:00,  5.09s/it]\n",
                  "                 Class     Images  Instances      Box(P          R      mAP50  mAP50-95): 100%|██████████| 1/1 [00:01<00:00,  1.38s/it]"
               ]
            },
            {
               "name": "stdout",
               "output_type": "stream",
               "text": [
                  "                   all         12         12      0.928      0.992      0.971       0.76\n"
               ]
            },
            {
               "name": "stderr",
               "output_type": "stream",
               "text": [
                  "\n"
               ]
            },
            {
               "name": "stdout",
               "output_type": "stream",
               "text": [
                  "\n",
                  "      Epoch    GPU_mem   box_loss   cls_loss   dfl_loss  Instances       Size\n"
               ]
            },
            {
               "name": "stderr",
               "output_type": "stream",
               "text": [
                  "     61/100         0G     0.6885      1.014      1.059         18        640: 100%|██████████| 3/3 [00:13<00:00,  4.37s/it]\n",
                  "                 Class     Images  Instances      Box(P          R      mAP50  mAP50-95): 100%|██████████| 1/1 [00:01<00:00,  1.47s/it]"
               ]
            },
            {
               "name": "stdout",
               "output_type": "stream",
               "text": [
                  "                   all         12         12      0.928      0.992      0.971       0.76\n"
               ]
            },
            {
               "name": "stderr",
               "output_type": "stream",
               "text": [
                  "\n"
               ]
            },
            {
               "name": "stdout",
               "output_type": "stream",
               "text": [
                  "\n",
                  "      Epoch    GPU_mem   box_loss   cls_loss   dfl_loss  Instances       Size\n"
               ]
            },
            {
               "name": "stderr",
               "output_type": "stream",
               "text": [
                  "     62/100         0G     0.6145     0.8579      1.029         23        640: 100%|██████████| 3/3 [00:12<00:00,  4.21s/it]\n",
                  "                 Class     Images  Instances      Box(P          R      mAP50  mAP50-95): 100%|██████████| 1/1 [00:01<00:00,  1.46s/it]"
               ]
            },
            {
               "name": "stdout",
               "output_type": "stream",
               "text": [
                  "                   all         12         12      0.991      0.974      0.995      0.739\n"
               ]
            },
            {
               "name": "stderr",
               "output_type": "stream",
               "text": [
                  "\n"
               ]
            },
            {
               "name": "stdout",
               "output_type": "stream",
               "text": [
                  "\n",
                  "      Epoch    GPU_mem   box_loss   cls_loss   dfl_loss  Instances       Size\n"
               ]
            },
            {
               "name": "stderr",
               "output_type": "stream",
               "text": [
                  "     63/100         0G     0.6652     0.9854      1.061         21        640: 100%|██████████| 3/3 [00:11<00:00,  3.85s/it]\n",
                  "                 Class     Images  Instances      Box(P          R      mAP50  mAP50-95): 100%|██████████| 1/1 [00:01<00:00,  1.17s/it]"
               ]
            },
            {
               "name": "stdout",
               "output_type": "stream",
               "text": [
                  "                   all         12         12      0.962      0.994      0.995      0.737\n"
               ]
            },
            {
               "name": "stderr",
               "output_type": "stream",
               "text": [
                  "\n"
               ]
            },
            {
               "name": "stdout",
               "output_type": "stream",
               "text": [
                  "\n",
                  "      Epoch    GPU_mem   box_loss   cls_loss   dfl_loss  Instances       Size\n"
               ]
            },
            {
               "name": "stderr",
               "output_type": "stream",
               "text": [
                  "     64/100         0G      0.597     0.7897     0.9965         17        640: 100%|██████████| 3/3 [00:09<00:00,  3.18s/it]\n",
                  "                 Class     Images  Instances      Box(P          R      mAP50  mAP50-95): 100%|██████████| 1/1 [00:01<00:00,  1.05s/it]"
               ]
            },
            {
               "name": "stdout",
               "output_type": "stream",
               "text": [
                  "                   all         12         12      0.955      0.994      0.995        0.7\n"
               ]
            },
            {
               "name": "stderr",
               "output_type": "stream",
               "text": [
                  "\n"
               ]
            },
            {
               "name": "stdout",
               "output_type": "stream",
               "text": [
                  "\n",
                  "      Epoch    GPU_mem   box_loss   cls_loss   dfl_loss  Instances       Size\n"
               ]
            },
            {
               "name": "stderr",
               "output_type": "stream",
               "text": [
                  "     65/100         0G     0.6087     0.8964      1.033         23        640: 100%|██████████| 3/3 [00:08<00:00,  2.93s/it]\n",
                  "                 Class     Images  Instances      Box(P          R      mAP50  mAP50-95): 100%|██████████| 1/1 [00:00<00:00,  1.13it/s]"
               ]
            },
            {
               "name": "stdout",
               "output_type": "stream",
               "text": [
                  "                   all         12         12      0.955      0.994      0.995        0.7\n"
               ]
            },
            {
               "name": "stderr",
               "output_type": "stream",
               "text": [
                  "\n"
               ]
            },
            {
               "name": "stdout",
               "output_type": "stream",
               "text": [
                  "\n",
                  "      Epoch    GPU_mem   box_loss   cls_loss   dfl_loss  Instances       Size\n"
               ]
            },
            {
               "name": "stderr",
               "output_type": "stream",
               "text": [
                  "     66/100         0G     0.5753      0.827     0.9954         22        640: 100%|██████████| 3/3 [00:08<00:00,  2.79s/it]\n",
                  "                 Class     Images  Instances      Box(P          R      mAP50  mAP50-95): 100%|██████████| 1/1 [00:00<00:00,  1.11it/s]"
               ]
            },
            {
               "name": "stdout",
               "output_type": "stream",
               "text": [
                  "                   all         12         12      0.952      0.995      0.995      0.731\n"
               ]
            },
            {
               "name": "stderr",
               "output_type": "stream",
               "text": [
                  "\n"
               ]
            },
            {
               "name": "stdout",
               "output_type": "stream",
               "text": [
                  "\n",
                  "      Epoch    GPU_mem   box_loss   cls_loss   dfl_loss  Instances       Size\n"
               ]
            },
            {
               "name": "stderr",
               "output_type": "stream",
               "text": [
                  "     67/100         0G     0.6395     0.8502      1.085         23        640: 100%|██████████| 3/3 [00:09<00:00,  3.00s/it]\n",
                  "                 Class     Images  Instances      Box(P          R      mAP50  mAP50-95): 100%|██████████| 1/1 [00:01<00:00,  1.15s/it]"
               ]
            },
            {
               "name": "stdout",
               "output_type": "stream",
               "text": [
                  "                   all         12         12      0.967          1      0.995      0.742\n"
               ]
            },
            {
               "name": "stderr",
               "output_type": "stream",
               "text": [
                  "\n"
               ]
            },
            {
               "name": "stdout",
               "output_type": "stream",
               "text": [
                  "\n",
                  "      Epoch    GPU_mem   box_loss   cls_loss   dfl_loss  Instances       Size\n"
               ]
            },
            {
               "name": "stderr",
               "output_type": "stream",
               "text": [
                  "     68/100         0G     0.5892     0.7902      1.092         15        640: 100%|██████████| 3/3 [00:09<00:00,  3.12s/it]\n",
                  "                 Class     Images  Instances      Box(P          R      mAP50  mAP50-95): 100%|██████████| 1/1 [00:00<00:00,  1.09it/s]"
               ]
            },
            {
               "name": "stdout",
               "output_type": "stream",
               "text": [
                  "                   all         12         12      0.967          1      0.995      0.778\n"
               ]
            },
            {
               "name": "stderr",
               "output_type": "stream",
               "text": [
                  "\n"
               ]
            },
            {
               "name": "stdout",
               "output_type": "stream",
               "text": [
                  "\n",
                  "      Epoch    GPU_mem   box_loss   cls_loss   dfl_loss  Instances       Size\n"
               ]
            },
            {
               "name": "stderr",
               "output_type": "stream",
               "text": [
                  "     69/100         0G     0.6526     0.8157      1.041         21        640: 100%|██████████| 3/3 [00:08<00:00,  2.87s/it]\n",
                  "                 Class     Images  Instances      Box(P          R      mAP50  mAP50-95): 100%|██████████| 1/1 [00:00<00:00,  1.06it/s]"
               ]
            },
            {
               "name": "stdout",
               "output_type": "stream",
               "text": [
                  "                   all         12         12      0.967          1      0.995      0.778\n"
               ]
            },
            {
               "name": "stderr",
               "output_type": "stream",
               "text": [
                  "\n"
               ]
            },
            {
               "name": "stdout",
               "output_type": "stream",
               "text": [
                  "\n",
                  "      Epoch    GPU_mem   box_loss   cls_loss   dfl_loss  Instances       Size\n"
               ]
            },
            {
               "name": "stderr",
               "output_type": "stream",
               "text": [
                  "     70/100         0G     0.5192      0.813      1.006         19        640: 100%|██████████| 3/3 [00:08<00:00,  2.76s/it]\n",
                  "                 Class     Images  Instances      Box(P          R      mAP50  mAP50-95): 100%|██████████| 1/1 [00:00<00:00,  1.10it/s]"
               ]
            },
            {
               "name": "stdout",
               "output_type": "stream",
               "text": [
                  "                   all         12         12      0.967      0.997      0.995      0.777\n"
               ]
            },
            {
               "name": "stderr",
               "output_type": "stream",
               "text": [
                  "\n"
               ]
            },
            {
               "name": "stdout",
               "output_type": "stream",
               "text": [
                  "\n",
                  "      Epoch    GPU_mem   box_loss   cls_loss   dfl_loss  Instances       Size\n"
               ]
            },
            {
               "name": "stderr",
               "output_type": "stream",
               "text": [
                  "     71/100         0G     0.5321      0.814       0.98         23        640: 100%|██████████| 3/3 [00:08<00:00,  2.69s/it]\n",
                  "                 Class     Images  Instances      Box(P          R      mAP50  mAP50-95): 100%|██████████| 1/1 [00:00<00:00,  1.13it/s]"
               ]
            },
            {
               "name": "stdout",
               "output_type": "stream",
               "text": [
                  "                   all         12         12      0.977          1      0.995      0.783\n"
               ]
            },
            {
               "name": "stderr",
               "output_type": "stream",
               "text": [
                  "\n"
               ]
            },
            {
               "name": "stdout",
               "output_type": "stream",
               "text": [
                  "\n",
                  "      Epoch    GPU_mem   box_loss   cls_loss   dfl_loss  Instances       Size\n"
               ]
            },
            {
               "name": "stderr",
               "output_type": "stream",
               "text": [
                  "     72/100         0G     0.6171     0.8844      1.055         18        640: 100%|██████████| 3/3 [00:08<00:00,  2.72s/it]\n",
                  "                 Class     Images  Instances      Box(P          R      mAP50  mAP50-95): 100%|██████████| 1/1 [00:00<00:00,  1.16it/s]"
               ]
            },
            {
               "name": "stdout",
               "output_type": "stream",
               "text": [
                  "                   all         12         12      0.985          1      0.995      0.769\n"
               ]
            },
            {
               "name": "stderr",
               "output_type": "stream",
               "text": [
                  "\n"
               ]
            },
            {
               "name": "stdout",
               "output_type": "stream",
               "text": [
                  "\n",
                  "      Epoch    GPU_mem   box_loss   cls_loss   dfl_loss  Instances       Size\n"
               ]
            },
            {
               "name": "stderr",
               "output_type": "stream",
               "text": [
                  "     73/100         0G       0.58     0.8287      1.036         21        640: 100%|██████████| 3/3 [00:09<00:00,  3.00s/it]\n",
                  "                 Class     Images  Instances      Box(P          R      mAP50  mAP50-95): 100%|██████████| 1/1 [00:00<00:00,  1.08it/s]"
               ]
            },
            {
               "name": "stdout",
               "output_type": "stream",
               "text": [
                  "                   all         12         12      0.985          1      0.995      0.769\n"
               ]
            },
            {
               "name": "stderr",
               "output_type": "stream",
               "text": [
                  "\n"
               ]
            },
            {
               "name": "stdout",
               "output_type": "stream",
               "text": [
                  "\n",
                  "      Epoch    GPU_mem   box_loss   cls_loss   dfl_loss  Instances       Size\n"
               ]
            },
            {
               "name": "stderr",
               "output_type": "stream",
               "text": [
                  "     74/100         0G     0.5651     0.8365      1.055         22        640: 100%|██████████| 3/3 [00:09<00:00,  3.12s/it]\n",
                  "                 Class     Images  Instances      Box(P          R      mAP50  mAP50-95): 100%|██████████| 1/1 [00:00<00:00,  1.01it/s]"
               ]
            },
            {
               "name": "stdout",
               "output_type": "stream",
               "text": [
                  "                   all         12         12      0.993          1      0.995      0.749\n"
               ]
            },
            {
               "name": "stderr",
               "output_type": "stream",
               "text": [
                  "\n"
               ]
            },
            {
               "name": "stdout",
               "output_type": "stream",
               "text": [
                  "\n",
                  "      Epoch    GPU_mem   box_loss   cls_loss   dfl_loss  Instances       Size\n"
               ]
            },
            {
               "name": "stderr",
               "output_type": "stream",
               "text": [
                  "     75/100         0G     0.6123     0.8278      1.044         18        640: 100%|██████████| 3/3 [00:09<00:00,  3.10s/it]\n",
                  "                 Class     Images  Instances      Box(P          R      mAP50  mAP50-95): 100%|██████████| 1/1 [00:01<00:00,  1.06s/it]"
               ]
            },
            {
               "name": "stdout",
               "output_type": "stream",
               "text": [
                  "                   all         12         12       0.96      0.983      0.995      0.747\n"
               ]
            },
            {
               "name": "stderr",
               "output_type": "stream",
               "text": [
                  "\n"
               ]
            },
            {
               "name": "stdout",
               "output_type": "stream",
               "text": [
                  "\n",
                  "      Epoch    GPU_mem   box_loss   cls_loss   dfl_loss  Instances       Size\n"
               ]
            },
            {
               "name": "stderr",
               "output_type": "stream",
               "text": [
                  "     76/100         0G     0.6461     0.8103      1.037         29        640: 100%|██████████| 3/3 [00:08<00:00,  2.85s/it]\n",
                  "                 Class     Images  Instances      Box(P          R      mAP50  mAP50-95): 100%|██████████| 1/1 [00:00<00:00,  1.14it/s]"
               ]
            },
            {
               "name": "stdout",
               "output_type": "stream",
               "text": [
                  "                   all         12         12      0.976      0.943      0.995      0.758\n"
               ]
            },
            {
               "name": "stderr",
               "output_type": "stream",
               "text": [
                  "\n"
               ]
            },
            {
               "name": "stdout",
               "output_type": "stream",
               "text": [
                  "\n",
                  "      Epoch    GPU_mem   box_loss   cls_loss   dfl_loss  Instances       Size\n"
               ]
            },
            {
               "name": "stderr",
               "output_type": "stream",
               "text": [
                  "     77/100         0G     0.5534     0.7921      1.018         18        640: 100%|██████████| 3/3 [00:07<00:00,  2.63s/it]\n",
                  "                 Class     Images  Instances      Box(P          R      mAP50  mAP50-95): 100%|██████████| 1/1 [00:00<00:00,  1.17it/s]"
               ]
            },
            {
               "name": "stdout",
               "output_type": "stream",
               "text": [
                  "                   all         12         12      0.976      0.943      0.995      0.758\n"
               ]
            },
            {
               "name": "stderr",
               "output_type": "stream",
               "text": [
                  "\n"
               ]
            },
            {
               "name": "stdout",
               "output_type": "stream",
               "text": [
                  "\n",
                  "      Epoch    GPU_mem   box_loss   cls_loss   dfl_loss  Instances       Size\n"
               ]
            },
            {
               "name": "stderr",
               "output_type": "stream",
               "text": [
                  "     78/100         0G     0.5063     0.7306      1.015         20        640: 100%|██████████| 3/3 [00:08<00:00,  2.74s/it]\n",
                  "                 Class     Images  Instances      Box(P          R      mAP50  mAP50-95): 100%|██████████| 1/1 [00:00<00:00,  1.09it/s]"
               ]
            },
            {
               "name": "stdout",
               "output_type": "stream",
               "text": [
                  "                   all         12         12      0.968       0.99      0.995      0.795\n"
               ]
            },
            {
               "name": "stderr",
               "output_type": "stream",
               "text": [
                  "\n"
               ]
            },
            {
               "name": "stdout",
               "output_type": "stream",
               "text": [
                  "\n",
                  "      Epoch    GPU_mem   box_loss   cls_loss   dfl_loss  Instances       Size\n"
               ]
            },
            {
               "name": "stderr",
               "output_type": "stream",
               "text": [
                  "     79/100         0G     0.5334      0.807     0.9808         25        640: 100%|██████████| 3/3 [00:08<00:00,  2.71s/it]\n",
                  "                 Class     Images  Instances      Box(P          R      mAP50  mAP50-95): 100%|██████████| 1/1 [00:00<00:00,  1.15it/s]"
               ]
            },
            {
               "name": "stdout",
               "output_type": "stream",
               "text": [
                  "                   all         12         12      0.987      0.994      0.995      0.787\n"
               ]
            },
            {
               "name": "stderr",
               "output_type": "stream",
               "text": [
                  "\n"
               ]
            },
            {
               "name": "stdout",
               "output_type": "stream",
               "text": [
                  "\n",
                  "      Epoch    GPU_mem   box_loss   cls_loss   dfl_loss  Instances       Size\n"
               ]
            },
            {
               "name": "stderr",
               "output_type": "stream",
               "text": [
                  "     80/100         0G     0.5713     0.7602       1.01         23        640: 100%|██████████| 3/3 [00:08<00:00,  2.70s/it]\n",
                  "                 Class     Images  Instances      Box(P          R      mAP50  mAP50-95): 100%|██████████| 1/1 [00:00<00:00,  1.18it/s]"
               ]
            },
            {
               "name": "stdout",
               "output_type": "stream",
               "text": [
                  "                   all         12         12       0.99          1      0.995      0.784\n"
               ]
            },
            {
               "name": "stderr",
               "output_type": "stream",
               "text": [
                  "\n"
               ]
            },
            {
               "name": "stdout",
               "output_type": "stream",
               "text": [
                  "\n",
                  "      Epoch    GPU_mem   box_loss   cls_loss   dfl_loss  Instances       Size\n"
               ]
            },
            {
               "name": "stderr",
               "output_type": "stream",
               "text": [
                  "     81/100         0G     0.5262      0.742     0.9858         24        640: 100%|██████████| 3/3 [00:09<00:00,  3.04s/it]\n",
                  "                 Class     Images  Instances      Box(P          R      mAP50  mAP50-95): 100%|██████████| 1/1 [00:01<00:00,  1.07s/it]"
               ]
            },
            {
               "name": "stdout",
               "output_type": "stream",
               "text": [
                  "                   all         12         12       0.99          1      0.995      0.784\n"
               ]
            },
            {
               "name": "stderr",
               "output_type": "stream",
               "text": [
                  "\n"
               ]
            },
            {
               "name": "stdout",
               "output_type": "stream",
               "text": [
                  "\n",
                  "      Epoch    GPU_mem   box_loss   cls_loss   dfl_loss  Instances       Size\n"
               ]
            },
            {
               "name": "stderr",
               "output_type": "stream",
               "text": [
                  "     82/100         0G     0.5519        0.8      1.056         25        640: 100%|██████████| 3/3 [00:09<00:00,  3.05s/it]\n",
                  "                 Class     Images  Instances      Box(P          R      mAP50  mAP50-95): 100%|██████████| 1/1 [00:01<00:00,  1.04s/it]"
               ]
            },
            {
               "name": "stdout",
               "output_type": "stream",
               "text": [
                  "                   all         12         12      0.992          1      0.995      0.794\n"
               ]
            },
            {
               "name": "stderr",
               "output_type": "stream",
               "text": [
                  "\n"
               ]
            },
            {
               "name": "stdout",
               "output_type": "stream",
               "text": [
                  "\n",
                  "      Epoch    GPU_mem   box_loss   cls_loss   dfl_loss  Instances       Size\n"
               ]
            },
            {
               "name": "stderr",
               "output_type": "stream",
               "text": [
                  "     83/100         0G     0.5462     0.7408      1.009         24        640: 100%|██████████| 3/3 [00:09<00:00,  3.09s/it]\n",
                  "                 Class     Images  Instances      Box(P          R      mAP50  mAP50-95): 100%|██████████| 1/1 [00:00<00:00,  1.05it/s]"
               ]
            },
            {
               "name": "stdout",
               "output_type": "stream",
               "text": [
                  "                   all         12         12       0.99          1      0.995      0.783\n"
               ]
            },
            {
               "name": "stderr",
               "output_type": "stream",
               "text": [
                  "\n"
               ]
            },
            {
               "name": "stdout",
               "output_type": "stream",
               "text": [
                  "\n",
                  "      Epoch    GPU_mem   box_loss   cls_loss   dfl_loss  Instances       Size\n"
               ]
            },
            {
               "name": "stderr",
               "output_type": "stream",
               "text": [
                  "     84/100         0G     0.4523     0.7679     0.9865         11        640: 100%|██████████| 3/3 [00:09<00:00,  3.06s/it]\n",
                  "                 Class     Images  Instances      Box(P          R      mAP50  mAP50-95): 100%|██████████| 1/1 [00:00<00:00,  1.01it/s]"
               ]
            },
            {
               "name": "stdout",
               "output_type": "stream",
               "text": [
                  "                   all         12         12      0.991          1      0.995      0.786\n"
               ]
            },
            {
               "name": "stderr",
               "output_type": "stream",
               "text": [
                  "\n"
               ]
            },
            {
               "name": "stdout",
               "output_type": "stream",
               "text": [
                  "\n",
                  "      Epoch    GPU_mem   box_loss   cls_loss   dfl_loss  Instances       Size\n"
               ]
            },
            {
               "name": "stderr",
               "output_type": "stream",
               "text": [
                  "     85/100         0G     0.5203     0.7821      1.045         17        640: 100%|██████████| 3/3 [00:09<00:00,  3.28s/it]\n",
                  "                 Class     Images  Instances      Box(P          R      mAP50  mAP50-95): 100%|██████████| 1/1 [00:01<00:00,  1.15s/it]"
               ]
            },
            {
               "name": "stdout",
               "output_type": "stream",
               "text": [
                  "                   all         12         12      0.991          1      0.995      0.786\n"
               ]
            },
            {
               "name": "stderr",
               "output_type": "stream",
               "text": [
                  "\n"
               ]
            },
            {
               "name": "stdout",
               "output_type": "stream",
               "text": [
                  "\n",
                  "      Epoch    GPU_mem   box_loss   cls_loss   dfl_loss  Instances       Size\n"
               ]
            },
            {
               "name": "stderr",
               "output_type": "stream",
               "text": [
                  "     86/100         0G     0.4979     0.6664     0.9582         26        640: 100%|██████████| 3/3 [00:12<00:00,  4.27s/it]\n",
                  "                 Class     Images  Instances      Box(P          R      mAP50  mAP50-95): 100%|██████████| 1/1 [00:02<00:00,  2.03s/it]"
               ]
            },
            {
               "name": "stdout",
               "output_type": "stream",
               "text": [
                  "                   all         12         12      0.992          1      0.995      0.777\n"
               ]
            },
            {
               "name": "stderr",
               "output_type": "stream",
               "text": [
                  "\n"
               ]
            },
            {
               "name": "stdout",
               "output_type": "stream",
               "text": [
                  "\n",
                  "      Epoch    GPU_mem   box_loss   cls_loss   dfl_loss  Instances       Size\n"
               ]
            },
            {
               "name": "stderr",
               "output_type": "stream",
               "text": [
                  "     87/100         0G     0.5047     0.6609      1.002         25        640: 100%|██████████| 3/3 [00:13<00:00,  4.52s/it]\n",
                  "                 Class     Images  Instances      Box(P          R      mAP50  mAP50-95): 100%|██████████| 1/1 [00:01<00:00,  1.19s/it]"
               ]
            },
            {
               "name": "stdout",
               "output_type": "stream",
               "text": [
                  "                   all         12         12      0.992          1      0.995      0.794\n"
               ]
            },
            {
               "name": "stderr",
               "output_type": "stream",
               "text": [
                  "\n"
               ]
            },
            {
               "name": "stdout",
               "output_type": "stream",
               "text": [
                  "\n",
                  "      Epoch    GPU_mem   box_loss   cls_loss   dfl_loss  Instances       Size\n"
               ]
            },
            {
               "name": "stderr",
               "output_type": "stream",
               "text": [
                  "     88/100         0G     0.5375     0.6461     0.9771         24        640: 100%|██████████| 3/3 [00:12<00:00,  4.06s/it]\n",
                  "                 Class     Images  Instances      Box(P          R      mAP50  mAP50-95): 100%|██████████| 1/1 [00:01<00:00,  1.30s/it]"
               ]
            },
            {
               "name": "stdout",
               "output_type": "stream",
               "text": [
                  "                   all         12         12      0.991          1      0.995      0.817\n"
               ]
            },
            {
               "name": "stderr",
               "output_type": "stream",
               "text": [
                  "\n"
               ]
            },
            {
               "name": "stdout",
               "output_type": "stream",
               "text": [
                  "\n",
                  "      Epoch    GPU_mem   box_loss   cls_loss   dfl_loss  Instances       Size\n"
               ]
            },
            {
               "name": "stderr",
               "output_type": "stream",
               "text": [
                  "     89/100         0G     0.4917     0.6856      1.036         16        640: 100%|██████████| 3/3 [00:12<00:00,  4.16s/it]\n",
                  "                 Class     Images  Instances      Box(P          R      mAP50  mAP50-95): 100%|██████████| 1/1 [00:01<00:00,  1.25s/it]"
               ]
            },
            {
               "name": "stdout",
               "output_type": "stream",
               "text": [
                  "                   all         12         12      0.991          1      0.995      0.817\n"
               ]
            },
            {
               "name": "stderr",
               "output_type": "stream",
               "text": [
                  "\n"
               ]
            },
            {
               "name": "stdout",
               "output_type": "stream",
               "text": [
                  "\n",
                  "      Epoch    GPU_mem   box_loss   cls_loss   dfl_loss  Instances       Size\n"
               ]
            },
            {
               "name": "stderr",
               "output_type": "stream",
               "text": [
                  "     90/100         0G      0.481     0.7124      1.001         17        640: 100%|██████████| 3/3 [00:13<00:00,  4.62s/it]\n",
                  "                 Class     Images  Instances      Box(P          R      mAP50  mAP50-95): 100%|██████████| 1/1 [00:01<00:00,  1.47s/it]"
               ]
            },
            {
               "name": "stdout",
               "output_type": "stream",
               "text": [
                  "                   all         12         12      0.991          1      0.995      0.826\n"
               ]
            },
            {
               "name": "stderr",
               "output_type": "stream",
               "text": [
                  "\n"
               ]
            },
            {
               "name": "stdout",
               "output_type": "stream",
               "text": [
                  "Closing dataloader mosaic\n",
                  "\n",
                  "      Epoch    GPU_mem   box_loss   cls_loss   dfl_loss  Instances       Size\n"
               ]
            },
            {
               "name": "stderr",
               "output_type": "stream",
               "text": [
                  "     91/100         0G      0.403     0.8882     0.9127         10        640: 100%|██████████| 3/3 [00:13<00:00,  4.39s/it]\n",
                  "                 Class     Images  Instances      Box(P          R      mAP50  mAP50-95): 100%|██████████| 1/1 [00:01<00:00,  1.39s/it]"
               ]
            },
            {
               "name": "stdout",
               "output_type": "stream",
               "text": [
                  "                   all         12         12      0.991          1      0.995      0.834\n"
               ]
            },
            {
               "name": "stderr",
               "output_type": "stream",
               "text": [
                  "\n"
               ]
            },
            {
               "name": "stdout",
               "output_type": "stream",
               "text": [
                  "\n",
                  "      Epoch    GPU_mem   box_loss   cls_loss   dfl_loss  Instances       Size\n"
               ]
            },
            {
               "name": "stderr",
               "output_type": "stream",
               "text": [
                  "     92/100         0G     0.4526     0.8869      1.015         10        640: 100%|██████████| 3/3 [00:12<00:00,  4.25s/it]\n",
                  "                 Class     Images  Instances      Box(P          R      mAP50  mAP50-95): 100%|██████████| 1/1 [00:01<00:00,  1.33s/it]"
               ]
            },
            {
               "name": "stdout",
               "output_type": "stream",
               "text": [
                  "                   all         12         12       0.99          1      0.995      0.818\n"
               ]
            },
            {
               "name": "stderr",
               "output_type": "stream",
               "text": [
                  "\n"
               ]
            },
            {
               "name": "stdout",
               "output_type": "stream",
               "text": [
                  "\n",
                  "      Epoch    GPU_mem   box_loss   cls_loss   dfl_loss  Instances       Size\n"
               ]
            },
            {
               "name": "stderr",
               "output_type": "stream",
               "text": [
                  "     93/100         0G     0.4107     0.8572     0.9451         10        640: 100%|██████████| 3/3 [00:12<00:00,  4.22s/it]\n",
                  "                 Class     Images  Instances      Box(P          R      mAP50  mAP50-95): 100%|██████████| 1/1 [00:01<00:00,  1.39s/it]"
               ]
            },
            {
               "name": "stdout",
               "output_type": "stream",
               "text": [
                  "                   all         12         12       0.99          1      0.995      0.818\n"
               ]
            },
            {
               "name": "stderr",
               "output_type": "stream",
               "text": [
                  "\n"
               ]
            },
            {
               "name": "stdout",
               "output_type": "stream",
               "text": [
                  "\n",
                  "      Epoch    GPU_mem   box_loss   cls_loss   dfl_loss  Instances       Size\n"
               ]
            },
            {
               "name": "stderr",
               "output_type": "stream",
               "text": [
                  "     94/100         0G     0.3704       0.91     0.9095         10        640: 100%|██████████| 3/3 [00:13<00:00,  4.45s/it]\n",
                  "                 Class     Images  Instances      Box(P          R      mAP50  mAP50-95): 100%|██████████| 1/1 [00:01<00:00,  1.44s/it]"
               ]
            },
            {
               "name": "stdout",
               "output_type": "stream",
               "text": [
                  "                   all         12         12      0.987          1      0.995      0.815\n"
               ]
            },
            {
               "name": "stderr",
               "output_type": "stream",
               "text": [
                  "\n"
               ]
            },
            {
               "name": "stdout",
               "output_type": "stream",
               "text": [
                  "\n",
                  "      Epoch    GPU_mem   box_loss   cls_loss   dfl_loss  Instances       Size\n"
               ]
            },
            {
               "name": "stderr",
               "output_type": "stream",
               "text": [
                  "     95/100         0G     0.4059     0.8695     0.9504         10        640: 100%|██████████| 3/3 [00:12<00:00,  4.24s/it]\n",
                  "                 Class     Images  Instances      Box(P          R      mAP50  mAP50-95): 100%|██████████| 1/1 [00:01<00:00,  1.48s/it]"
               ]
            },
            {
               "name": "stdout",
               "output_type": "stream",
               "text": [
                  "                   all         12         12      0.984          1      0.995      0.788\n"
               ]
            },
            {
               "name": "stderr",
               "output_type": "stream",
               "text": [
                  "\n"
               ]
            },
            {
               "name": "stdout",
               "output_type": "stream",
               "text": [
                  "\n",
                  "      Epoch    GPU_mem   box_loss   cls_loss   dfl_loss  Instances       Size\n"
               ]
            },
            {
               "name": "stderr",
               "output_type": "stream",
               "text": [
                  "     96/100         0G     0.3504     0.8011     0.8485         10        640: 100%|██████████| 3/3 [00:13<00:00,  4.41s/it]\n",
                  "                 Class     Images  Instances      Box(P          R      mAP50  mAP50-95): 100%|██████████| 1/1 [00:01<00:00,  1.30s/it]"
               ]
            },
            {
               "name": "stdout",
               "output_type": "stream",
               "text": [
                  "                   all         12         12      0.981          1      0.995      0.806\n"
               ]
            },
            {
               "name": "stderr",
               "output_type": "stream",
               "text": [
                  "\n"
               ]
            },
            {
               "name": "stdout",
               "output_type": "stream",
               "text": [
                  "\n",
                  "      Epoch    GPU_mem   box_loss   cls_loss   dfl_loss  Instances       Size\n"
               ]
            },
            {
               "name": "stderr",
               "output_type": "stream",
               "text": [
                  "     97/100         0G     0.3547     0.8135     0.9059         10        640: 100%|██████████| 3/3 [00:13<00:00,  4.40s/it]\n",
                  "                 Class     Images  Instances      Box(P          R      mAP50  mAP50-95): 100%|██████████| 1/1 [00:01<00:00,  1.44s/it]"
               ]
            },
            {
               "name": "stdout",
               "output_type": "stream",
               "text": [
                  "                   all         12         12      0.981          1      0.995      0.806\n"
               ]
            },
            {
               "name": "stderr",
               "output_type": "stream",
               "text": [
                  "\n"
               ]
            },
            {
               "name": "stdout",
               "output_type": "stream",
               "text": [
                  "\n",
                  "      Epoch    GPU_mem   box_loss   cls_loss   dfl_loss  Instances       Size\n"
               ]
            },
            {
               "name": "stderr",
               "output_type": "stream",
               "text": [
                  "     98/100         0G     0.3519      0.808     0.8756         10        640: 100%|██████████| 3/3 [00:13<00:00,  4.57s/it]\n",
                  "                 Class     Images  Instances      Box(P          R      mAP50  mAP50-95): 100%|██████████| 1/1 [00:01<00:00,  1.45s/it]"
               ]
            },
            {
               "name": "stdout",
               "output_type": "stream",
               "text": [
                  "                   all         12         12      0.978      0.999      0.995      0.804\n"
               ]
            },
            {
               "name": "stderr",
               "output_type": "stream",
               "text": [
                  "\n"
               ]
            },
            {
               "name": "stdout",
               "output_type": "stream",
               "text": [
                  "\n",
                  "      Epoch    GPU_mem   box_loss   cls_loss   dfl_loss  Instances       Size\n"
               ]
            },
            {
               "name": "stderr",
               "output_type": "stream",
               "text": [
                  "     99/100         0G     0.3402     0.8228     0.8622         10        640: 100%|██████████| 3/3 [00:13<00:00,  4.49s/it]\n",
                  "                 Class     Images  Instances      Box(P          R      mAP50  mAP50-95): 100%|██████████| 1/1 [00:01<00:00,  1.33s/it]"
               ]
            },
            {
               "name": "stdout",
               "output_type": "stream",
               "text": [
                  "                   all         12         12      0.978          1      0.995      0.795\n"
               ]
            },
            {
               "name": "stderr",
               "output_type": "stream",
               "text": [
                  "\n"
               ]
            },
            {
               "name": "stdout",
               "output_type": "stream",
               "text": [
                  "\n",
                  "      Epoch    GPU_mem   box_loss   cls_loss   dfl_loss  Instances       Size\n"
               ]
            },
            {
               "name": "stderr",
               "output_type": "stream",
               "text": [
                  "    100/100         0G     0.4029     0.8525     0.9236         10        640: 100%|██████████| 3/3 [00:09<00:00,  3.28s/it]\n",
                  "                 Class     Images  Instances      Box(P          R      mAP50  mAP50-95): 100%|██████████| 1/1 [00:00<00:00,  1.13it/s]"
               ]
            },
            {
               "name": "stdout",
               "output_type": "stream",
               "text": [
                  "                   all         12         12      0.979          1      0.995      0.797\n"
               ]
            },
            {
               "name": "stderr",
               "output_type": "stream",
               "text": [
                  "\n"
               ]
            },
            {
               "name": "stdout",
               "output_type": "stream",
               "text": [
                  "\n",
                  "100 epochs completed in 0.396 hours.\n",
                  "Optimizer stripped from runs\\detect\\train9\\weights\\last.pt, 5.5MB\n",
                  "Optimizer stripped from runs\\detect\\train9\\weights\\best.pt, 5.5MB\n",
                  "\n",
                  "Validating runs\\detect\\train9\\weights\\best.pt...\n",
                  "Ultralytics 8.3.74  Python-3.13.1 torch-2.6.0+cpu CPU (Intel Core(TM) Ultra 7 155H)\n",
                  "YOLO11n summary (fused): 238 layers, 2,582,542 parameters, 0 gradients, 6.3 GFLOPs\n"
               ]
            },
            {
               "name": "stderr",
               "output_type": "stream",
               "text": [
                  "                 Class     Images  Instances      Box(P          R      mAP50  mAP50-95): 100%|██████████| 1/1 [00:01<00:00,  1.09s/it]\n"
               ]
            },
            {
               "name": "stdout",
               "output_type": "stream",
               "text": [
                  "                   all         12         12      0.991          1      0.995      0.834\n",
                  "                 short          6          6      0.989          1      0.995      0.743\n",
                  "                 veste          6          6      0.993          1      0.995      0.925\n",
                  "Speed: 5.7ms preprocess, 76.6ms inference, 0.0ms loss, 2.9ms postprocess per image\n",
                  "Results saved to \u001b[1mruns\\detect\\train9\u001b[0m\n"
               ]
            }
         ],
         "source": [
            "# Start training\n",
            "results = model.train(**training_args)"
         ]
      },
      {
         "cell_type": "code",
         "execution_count": 12,
         "metadata": {},
         "outputs": [],
         "source": [
            "# Save the trained model\n",
            "model.save(\"best_model.pt\")"
         ]
      },
      {
         "cell_type": "code",
         "execution_count": 13,
         "metadata": {},
         "outputs": [
            {
               "name": "stdout",
               "output_type": "stream",
               "text": [
                  "Ultralytics 8.3.74  Python-3.13.1 torch-2.6.0+cpu CPU (Intel Core(TM) Ultra 7 155H)\n",
                  "YOLO11n summary (fused): 238 layers, 2,582,542 parameters, 0 gradients, 6.3 GFLOPs\n"
               ]
            },
            {
               "name": "stderr",
               "output_type": "stream",
               "text": [
                  "\u001b[34m\u001b[1mval: \u001b[0mScanning D:\\GitHub\\FIRE\\datasets\\valid\\labels.cache... 12 images, 0 backgrounds, 0 corrupt: 100%|██████████| 12/12 [00:00<?, ?it/s]\n",
                  "                 Class     Images  Instances      Box(P          R      mAP50  mAP50-95): 100%|██████████| 1/1 [00:00<00:00,  1.22it/s]\n"
               ]
            },
            {
               "name": "stdout",
               "output_type": "stream",
               "text": [
                  "                   all         12         12      0.991          1      0.995      0.834\n",
                  "                 short          6          6      0.989          1      0.995      0.743\n",
                  "                 veste          6          6      0.993          1      0.995      0.925\n",
                  "Speed: 0.7ms preprocess, 58.4ms inference, 0.0ms loss, 2.1ms postprocess per image\n",
                  "Results saved to \u001b[1mruns\\detect\\train92\u001b[0m\n"
               ]
            }
         ],
         "source": [
            "# Optional: Evaluate the model on validation set\n",
            "val_results = model.val()"
         ]
      },
      {
         "cell_type": "code",
         "execution_count": 14,
         "metadata": {},
         "outputs": [
            {
               "name": "stdout",
               "output_type": "stream",
               "text": [
                  "Training completed!\n",
                  "Best mAP: 0.8339632316830722\n"
               ]
            }
         ],
         "source": [
            "print(\"Training completed!\")\n",
            "print(f\"Best mAP: {val_results.box.map}\")"
         ]
      }
   ],
   "metadata": {
      "kernelspec": {
         "display_name": "fire",
         "language": "python",
         "name": "python3"
      },
      "language_info": {
         "codemirror_mode": {
            "name": "ipython",
            "version": 3
         },
         "file_extension": ".py",
         "mimetype": "text/x-python",
         "name": "python",
         "nbconvert_exporter": "python",
         "pygments_lexer": "ipython3",
         "version": "3.13.1"
      }
   },
   "nbformat": 4,
   "nbformat_minor": 2
}
