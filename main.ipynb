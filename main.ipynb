{
   "cells": [
      {
         "cell_type": "code",
         "execution_count": 7,
         "metadata": {},
         "outputs": [],
         "source": [
            "import yaml\n",
            "from ultralytics import YOLO\n",
            "import os\n",
            "from pathlib import Path"
         ]
      },
      {
         "cell_type": "code",
         "execution_count": 8,
         "metadata": {},
         "outputs": [],
         "source": [
            "# Load the data configuration\n",
            "with open(\"data.yaml\", \"r\") as file:\n",
            "    data_config = yaml.safe_load(file)"
         ]
      },
      {
         "cell_type": "code",
         "execution_count": 9,
         "metadata": {},
         "outputs": [
            {
               "name": "stdout",
               "output_type": "stream",
               "text": [
                  "Downloading https://github.com/ultralytics/assets/releases/download/v8.3.0/yolo11n.pt to 'yolo11n.pt'...\n"
               ]
            },
            {
               "name": "stderr",
               "output_type": "stream",
               "text": [
                  "100%|██████████| 5.35M/5.35M [00:00<00:00, 35.6MB/s]\n"
               ]
            }
         ],
         "source": [
            "# Initialize YOLO model\n",
            "model = YOLO(\"yolo11n.pt\")  # Load the pre-trained YOLOv8 large model"
         ]
      },
      {
         "cell_type": "code",
         "execution_count": 10,
         "metadata": {},
         "outputs": [],
         "source": [
            "# Training configuration\n",
            "training_args = {\n",
            "    \"data\": \"data.yaml\",  # Path to data.yaml file\n",
            "    \"epochs\": 100,  # Number of epochs\n",
            "    \"imgsz\": 640,  # Image size\n",
            "    \"batch\": 16,  # Batch size\n",
            "    \"device\": \"cpu\",\n",
            "    \"workers\": 8,  # Number of worker threads\n",
            "    \"patience\": 50,  # Early stopping patience\n",
            "    \"save\": True,  # Save training results\n",
            "    \"cache\": False,  # Cache images for faster training\n",
            "}"
         ]
      },
      {
         "cell_type": "code",
         "execution_count": null,
         "metadata": {},
         "outputs": [
            {
               "name": "stdout",
               "output_type": "stream",
               "text": [
                  "Ultralytics 8.3.74  Python-3.13.1 torch-2.6.0+cpu CPU (Intel Core(TM) Ultra 7 155H)\n",
                  "\u001b[34m\u001b[1mengine\\trainer: \u001b[0mtask=detect, mode=train, model=yolo11n.pt, data=data.yaml, epochs=100, time=None, patience=50, batch=16, imgsz=640, save=True, save_period=-1, cache=False, device=cpu, workers=8, project=None, name=train9, exist_ok=False, pretrained=True, optimizer=auto, verbose=True, seed=0, deterministic=True, single_cls=False, rect=False, cos_lr=False, close_mosaic=10, resume=False, amp=True, fraction=1.0, profile=False, freeze=None, multi_scale=False, overlap_mask=True, mask_ratio=4, dropout=0.0, val=True, split=val, save_json=False, save_hybrid=False, conf=None, iou=0.7, max_det=300, half=False, dnn=False, plots=True, source=None, vid_stride=1, stream_buffer=False, visualize=False, augment=False, agnostic_nms=False, classes=None, retina_masks=False, embed=None, show=False, save_frames=False, save_txt=False, save_conf=False, save_crop=False, show_labels=True, show_conf=True, show_boxes=True, line_width=None, format=torchscript, keras=False, optimize=False, int8=False, dynamic=False, simplify=True, opset=None, workspace=None, nms=False, lr0=0.01, lrf=0.01, momentum=0.937, weight_decay=0.0005, warmup_epochs=3.0, warmup_momentum=0.8, warmup_bias_lr=0.1, box=7.5, cls=0.5, dfl=1.5, pose=12.0, kobj=1.0, nbs=64, hsv_h=0.015, hsv_s=0.7, hsv_v=0.4, degrees=0.0, translate=0.1, scale=0.5, shear=0.0, perspective=0.0, flipud=0.0, fliplr=0.5, bgr=0.0, mosaic=1.0, mixup=0.0, copy_paste=0.0, copy_paste_mode=flip, auto_augment=randaugment, erasing=0.4, crop_fraction=1.0, cfg=None, tracker=botsort.yaml, save_dir=runs\\detect\\train9\n",
                  "Overriding model.yaml nc=80 with nc=2\n",
                  "\n",
                  "                   from  n    params  module                                       arguments                     \n",
                  "  0                  -1  1       464  ultralytics.nn.modules.conv.Conv             [3, 16, 3, 2]                 \n",
                  "  1                  -1  1      4672  ultralytics.nn.modules.conv.Conv             [16, 32, 3, 2]                \n",
                  "  2                  -1  1      6640  ultralytics.nn.modules.block.C3k2            [32, 64, 1, False, 0.25]      \n",
                  "  3                  -1  1     36992  ultralytics.nn.modules.conv.Conv             [64, 64, 3, 2]                \n",
                  "  4                  -1  1     26080  ultralytics.nn.modules.block.C3k2            [64, 128, 1, False, 0.25]     \n",
                  "  5                  -1  1    147712  ultralytics.nn.modules.conv.Conv             [128, 128, 3, 2]              \n",
                  "  6                  -1  1     87040  ultralytics.nn.modules.block.C3k2            [128, 128, 1, True]           \n",
                  "  7                  -1  1    295424  ultralytics.nn.modules.conv.Conv             [128, 256, 3, 2]              \n",
                  "  8                  -1  1    346112  ultralytics.nn.modules.block.C3k2            [256, 256, 1, True]           \n",
                  "  9                  -1  1    164608  ultralytics.nn.modules.block.SPPF            [256, 256, 5]                 \n",
                  " 10                  -1  1    249728  ultralytics.nn.modules.block.C2PSA           [256, 256, 1]                 \n",
                  " 11                  -1  1         0  torch.nn.modules.upsampling.Upsample         [None, 2, 'nearest']          \n",
                  " 12             [-1, 6]  1         0  ultralytics.nn.modules.conv.Concat           [1]                           \n",
                  " 13                  -1  1    111296  ultralytics.nn.modules.block.C3k2            [384, 128, 1, False]          \n",
                  " 14                  -1  1         0  torch.nn.modules.upsampling.Upsample         [None, 2, 'nearest']          \n",
                  " 15             [-1, 4]  1         0  ultralytics.nn.modules.conv.Concat           [1]                           \n",
                  " 16                  -1  1     32096  ultralytics.nn.modules.block.C3k2            [256, 64, 1, False]           \n",
                  " 17                  -1  1     36992  ultralytics.nn.modules.conv.Conv             [64, 64, 3, 2]                \n",
                  " 18            [-1, 13]  1         0  ultralytics.nn.modules.conv.Concat           [1]                           \n",
                  " 19                  -1  1     86720  ultralytics.nn.modules.block.C3k2            [192, 128, 1, False]          \n",
                  " 20                  -1  1    147712  ultralytics.nn.modules.conv.Conv             [128, 128, 3, 2]              \n",
                  " 21            [-1, 10]  1         0  ultralytics.nn.modules.conv.Concat           [1]                           \n",
                  " 22                  -1  1    378880  ultralytics.nn.modules.block.C3k2            [384, 256, 1, True]           \n",
                  " 23        [16, 19, 22]  1    431062  ultralytics.nn.modules.head.Detect           [2, [64, 128, 256]]           \n",
                  "YOLO11n summary: 319 layers, 2,590,230 parameters, 2,590,214 gradients, 6.4 GFLOPs\n",
                  "\n",
                  "Transferred 448/499 items from pretrained weights\n",
                  "Freezing layer 'model.23.dfl.conv.weight'\n"
               ]
            },
            {
               "name": "stderr",
               "output_type": "stream",
               "text": [
                  "\u001b[34m\u001b[1mtrain: \u001b[0mScanning D:\\GitHub\\FIRE\\datasets\\train\\labels.cache... 42 images, 0 backgrounds, 0 corrupt: 100%|██████████| 42/42 [00:00<?, ?it/s]\n",
                  "\u001b[34m\u001b[1mval: \u001b[0mScanning D:\\GitHub\\FIRE\\datasets\\valid\\labels.cache... 12 images, 0 backgrounds, 0 corrupt: 100%|██████████| 12/12 [00:00<?, ?it/s]"
               ]
            },
            {
               "name": "stdout",
               "output_type": "stream",
               "text": [
                  "Plotting labels to runs\\detect\\train9\\labels.jpg... \n"
               ]
            },
            {
               "name": "stderr",
               "output_type": "stream",
               "text": [
                  "\n"
               ]
            },
            {
               "name": "stdout",
               "output_type": "stream",
               "text": [
                  "\u001b[34m\u001b[1moptimizer:\u001b[0m 'optimizer=auto' found, ignoring 'lr0=0.01' and 'momentum=0.937' and determining best 'optimizer', 'lr0' and 'momentum' automatically... \n",
                  "\u001b[34m\u001b[1moptimizer:\u001b[0m AdamW(lr=0.001667, momentum=0.9) with parameter groups 81 weight(decay=0.0), 88 weight(decay=0.0005), 87 bias(decay=0.0)\n",
                  "Image sizes 640 train, 640 val\n",
                  "Using 0 dataloader workers\n",
                  "Logging results to \u001b[1mruns\\detect\\train9\u001b[0m\n",
                  "Starting training for 100 epochs...\n",
                  "\n",
                  "      Epoch    GPU_mem   box_loss   cls_loss   dfl_loss  Instances       Size\n"
               ]
            },
            {
               "name": "stderr",
               "output_type": "stream",
               "text": [
                  "      1/100         0G      1.537      3.508      1.889         24        640: 100%|██████████| 3/3 [00:12<00:00,  4.23s/it]\n",
                  "                 Class     Images  Instances      Box(P          R      mAP50  mAP50-95): 100%|██████████| 1/1 [00:01<00:00,  1.65s/it]"
               ]
            },
            {
               "name": "stdout",
               "output_type": "stream",
               "text": [
                  "                   all         12         12    0.00305      0.917     0.0161    0.00626\n"
               ]
            },
            {
               "name": "stderr",
               "output_type": "stream",
               "text": [
                  "\n"
               ]
            },
            {
               "name": "stdout",
               "output_type": "stream",
               "text": [
                  "\n",
                  "      Epoch    GPU_mem   box_loss   cls_loss   dfl_loss  Instances       Size\n"
               ]
            },
            {
               "name": "stderr",
               "output_type": "stream",
               "text": [
                  "      2/100         0G      1.314      3.562      1.658         17        640: 100%|██████████| 3/3 [00:11<00:00,  3.91s/it]\n",
                  "                 Class     Images  Instances      Box(P          R      mAP50  mAP50-95): 100%|██████████| 1/1 [00:01<00:00,  1.68s/it]"
               ]
            },
            {
               "name": "stdout",
               "output_type": "stream",
               "text": [
                  "                   all         12         12    0.00306      0.917      0.063     0.0244\n"
               ]
            },
            {
               "name": "stderr",
               "output_type": "stream",
               "text": [
                  "\n"
               ]
            },
            {
               "name": "stdout",
               "output_type": "stream",
               "text": [
                  "\n",
                  "      Epoch    GPU_mem   box_loss   cls_loss   dfl_loss  Instances       Size\n"
               ]
            },
            {
               "name": "stderr",
               "output_type": "stream",
               "text": [
                  "      3/100         0G     0.9591      3.307      1.425         16        640: 100%|██████████| 3/3 [00:15<00:00,  5.09s/it]\n",
                  "                 Class     Images  Instances      Box(P          R      mAP50  mAP50-95): 100%|██████████| 1/1 [00:01<00:00,  1.66s/it]"
               ]
            },
            {
               "name": "stdout",
               "output_type": "stream",
               "text": [
                  "                   all         12         12    0.00337          1      0.175      0.101\n"
               ]
            },
            {
               "name": "stderr",
               "output_type": "stream",
               "text": [
                  "\n"
               ]
            },
            {
               "name": "stdout",
               "output_type": "stream",
               "text": [
                  "\n",
                  "      Epoch    GPU_mem   box_loss   cls_loss   dfl_loss  Instances       Size\n"
               ]
            },
            {
               "name": "stderr",
               "output_type": "stream",
               "text": [
                  "      4/100         0G     0.9052      3.145      1.272         18        640: 100%|██████████| 3/3 [00:10<00:00,  3.55s/it]\n",
                  "                 Class     Images  Instances      Box(P          R      mAP50  mAP50-95): 100%|██████████| 1/1 [00:01<00:00,  1.06s/it]"
               ]
            },
            {
               "name": "stdout",
               "output_type": "stream",
               "text": [
                  "                   all         12         12    0.00335          1      0.426      0.298\n"
               ]
            },
            {
               "name": "stderr",
               "output_type": "stream",
               "text": [
                  "\n"
               ]
            },
            {
               "name": "stdout",
               "output_type": "stream",
               "text": [
                  "\n",
                  "      Epoch    GPU_mem   box_loss   cls_loss   dfl_loss  Instances       Size\n"
               ]
            },
            {
               "name": "stderr",
               "output_type": "stream",
               "text": [
                  "      5/100         0G     0.8067      2.954      1.199         16        640: 100%|██████████| 3/3 [00:09<00:00,  3.11s/it]\n",
                  "                 Class     Images  Instances      Box(P          R      mAP50  mAP50-95): 100%|██████████| 1/1 [00:01<00:00,  1.05s/it]"
               ]
            },
            {
               "name": "stdout",
               "output_type": "stream",
               "text": [
                  "                   all         12         12    0.00334          1      0.482      0.366\n"
               ]
            },
            {
               "name": "stderr",
               "output_type": "stream",
               "text": [
                  "\n"
               ]
            },
            {
               "name": "stdout",
               "output_type": "stream",
               "text": [
                  "\n",
                  "      Epoch    GPU_mem   box_loss   cls_loss   dfl_loss  Instances       Size\n"
               ]
            },
            {
               "name": "stderr",
               "output_type": "stream",
               "text": [
                  "      6/100         0G     0.7712      2.582      1.174         28        640: 100%|██████████| 3/3 [00:10<00:00,  3.40s/it]\n",
                  "                 Class     Images  Instances      Box(P          R      mAP50  mAP50-95): 100%|██████████| 1/1 [00:01<00:00,  1.71s/it]"
               ]
            },
            {
               "name": "stdout",
               "output_type": "stream",
               "text": [
                  "                   all         12         12    0.00334          1      0.516      0.406\n"
               ]
            },
            {
               "name": "stderr",
               "output_type": "stream",
               "text": [
                  "\n"
               ]
            },
            {
               "name": "stdout",
               "output_type": "stream",
               "text": [
                  "\n",
                  "      Epoch    GPU_mem   box_loss   cls_loss   dfl_loss  Instances       Size\n"
               ]
            },
            {
               "name": "stderr",
               "output_type": "stream",
               "text": [
                  "      7/100         0G     0.7866      2.451      1.241         29        640: 100%|██████████| 3/3 [00:14<00:00,  4.99s/it]\n",
                  "                 Class     Images  Instances      Box(P          R      mAP50  mAP50-95): 100%|██████████| 1/1 [00:02<00:00,  2.38s/it]"
               ]
            },
            {
               "name": "stdout",
               "output_type": "stream",
               "text": [
                  "                   all         12         12    0.00334          1      0.629      0.509\n"
               ]
            },
            {
               "name": "stderr",
               "output_type": "stream",
               "text": [
                  "\n"
               ]
            },
            {
               "name": "stdout",
               "output_type": "stream",
               "text": [
                  "\n",
                  "      Epoch    GPU_mem   box_loss   cls_loss   dfl_loss  Instances       Size\n"
               ]
            },
            {
               "name": "stderr",
               "output_type": "stream",
               "text": [
                  "      8/100         0G     0.7604      2.423      1.134         22        640: 100%|██████████| 3/3 [00:13<00:00,  4.64s/it]\n",
                  "                 Class     Images  Instances      Box(P          R      mAP50  mAP50-95): 100%|██████████| 1/1 [00:01<00:00,  1.91s/it]"
               ]
            },
            {
               "name": "stdout",
               "output_type": "stream",
               "text": [
                  "                   all         12         12    0.00334          1      0.663      0.531\n"
               ]
            },
            {
               "name": "stderr",
               "output_type": "stream",
               "text": [
                  "\n"
               ]
            },
            {
               "name": "stdout",
               "output_type": "stream",
               "text": [
                  "\n",
                  "      Epoch    GPU_mem   box_loss   cls_loss   dfl_loss  Instances       Size\n"
               ]
            },
            {
               "name": "stderr",
               "output_type": "stream",
               "text": [
                  "      9/100         0G     0.8498      2.166      1.223         19        640: 100%|██████████| 3/3 [00:15<00:00,  5.00s/it]\n",
                  "                 Class     Images  Instances      Box(P          R      mAP50  mAP50-95): 100%|██████████| 1/1 [00:01<00:00,  1.91s/it]"
               ]
            },
            {
               "name": "stdout",
               "output_type": "stream",
               "text": [
                  "                   all         12         12    0.00337          1      0.621      0.405\n"
               ]
            },
            {
               "name": "stderr",
               "output_type": "stream",
               "text": [
                  "\n"
               ]
            },
            {
               "name": "stdout",
               "output_type": "stream",
               "text": [
                  "\n",
                  "      Epoch    GPU_mem   box_loss   cls_loss   dfl_loss  Instances       Size\n"
               ]
            },
            {
               "name": "stderr",
               "output_type": "stream",
               "text": [
                  "     10/100         0G     0.7902      1.911      1.172         18        640: 100%|██████████| 3/3 [00:13<00:00,  4.44s/it]\n",
                  "                 Class     Images  Instances      Box(P          R      mAP50  mAP50-95): 100%|██████████| 1/1 [00:01<00:00,  1.99s/it]"
               ]
            },
            {
               "name": "stdout",
               "output_type": "stream",
               "text": [
                  "                   all         12         12    0.00338          1      0.578      0.351\n"
               ]
            },
            {
               "name": "stderr",
               "output_type": "stream",
               "text": [
                  "\n"
               ]
            },
            {
               "name": "stdout",
               "output_type": "stream",
               "text": [
                  "\n",
                  "      Epoch    GPU_mem   box_loss   cls_loss   dfl_loss  Instances       Size\n"
               ]
            },
            {
               "name": "stderr",
               "output_type": "stream",
               "text": [
                  "     11/100         0G     0.7965      1.789      1.191         21        640: 100%|██████████| 3/3 [00:14<00:00,  4.88s/it]\n",
                  "                 Class     Images  Instances      Box(P          R      mAP50  mAP50-95): 100%|██████████| 1/1 [00:01<00:00,  1.90s/it]"
               ]
            },
            {
               "name": "stdout",
               "output_type": "stream",
               "text": [
                  "                   all         12         12    0.00347          1      0.563      0.253\n"
               ]
            },
            {
               "name": "stderr",
               "output_type": "stream",
               "text": [
                  "\n"
               ]
            },
            {
               "name": "stdout",
               "output_type": "stream",
               "text": [
                  "\n",
                  "      Epoch    GPU_mem   box_loss   cls_loss   dfl_loss  Instances       Size\n"
               ]
            },
            {
               "name": "stderr",
               "output_type": "stream",
               "text": [
                  "     12/100         0G     0.7965      1.604      1.167         20        640: 100%|██████████| 3/3 [00:14<00:00,  4.70s/it]\n",
                  "                 Class     Images  Instances      Box(P          R      mAP50  mAP50-95): 100%|██████████| 1/1 [00:01<00:00,  1.83s/it]"
               ]
            },
            {
               "name": "stdout",
               "output_type": "stream",
               "text": [
                  "                   all         12         12    0.00345          1      0.674      0.362\n"
               ]
            },
            {
               "name": "stderr",
               "output_type": "stream",
               "text": [
                  "\n"
               ]
            },
            {
               "name": "stdout",
               "output_type": "stream",
               "text": [
                  "\n",
                  "      Epoch    GPU_mem   box_loss   cls_loss   dfl_loss  Instances       Size\n"
               ]
            },
            {
               "name": "stderr",
               "output_type": "stream",
               "text": [
                  "     13/100         0G     0.7993       1.65      1.187         16        640: 100%|██████████| 3/3 [00:14<00:00,  4.99s/it]\n",
                  "                 Class     Images  Instances      Box(P          R      mAP50  mAP50-95): 100%|██████████| 1/1 [00:01<00:00,  1.87s/it]"
               ]
            },
            {
               "name": "stdout",
               "output_type": "stream",
               "text": [
                  "                   all         12         12    0.00309      0.917      0.644      0.329\n"
               ]
            },
            {
               "name": "stderr",
               "output_type": "stream",
               "text": [
                  "\n"
               ]
            },
            {
               "name": "stdout",
               "output_type": "stream",
               "text": [
                  "\n",
                  "      Epoch    GPU_mem   box_loss   cls_loss   dfl_loss  Instances       Size\n"
               ]
            },
            {
               "name": "stderr",
               "output_type": "stream",
               "text": [
                  "     14/100         0G      0.739      1.383      1.101         28        640: 100%|██████████| 3/3 [00:14<00:00,  4.74s/it]\n",
                  "                 Class     Images  Instances      Box(P          R      mAP50  mAP50-95): 100%|██████████| 1/1 [00:02<00:00,  2.10s/it]"
               ]
            },
            {
               "name": "stdout",
               "output_type": "stream",
               "text": [
                  "                   all         12         12    0.00338          1      0.681      0.427\n"
               ]
            },
            {
               "name": "stderr",
               "output_type": "stream",
               "text": [
                  "\n"
               ]
            },
            {
               "name": "stdout",
               "output_type": "stream",
               "text": [
                  "\n",
                  "      Epoch    GPU_mem   box_loss   cls_loss   dfl_loss  Instances       Size\n"
               ]
            },
            {
               "name": "stderr",
               "output_type": "stream",
               "text": [
                  "     15/100         0G      0.712       1.53      1.123         17        640: 100%|██████████| 3/3 [00:16<00:00,  5.42s/it]\n",
                  "                 Class     Images  Instances      Box(P          R      mAP50  mAP50-95): 100%|██████████| 1/1 [00:01<00:00,  1.75s/it]"
               ]
            },
            {
               "name": "stdout",
               "output_type": "stream",
               "text": [
                  "                   all         12         12          1      0.148      0.859      0.617\n"
               ]
            },
            {
               "name": "stderr",
               "output_type": "stream",
               "text": [
                  "\n"
               ]
            },
            {
               "name": "stdout",
               "output_type": "stream",
               "text": [
                  "\n",
                  "      Epoch    GPU_mem   box_loss   cls_loss   dfl_loss  Instances       Size\n"
               ]
            },
            {
               "name": "stderr",
               "output_type": "stream",
               "text": [
                  "     16/100         0G     0.7839      1.493      1.136         25        640: 100%|██████████| 3/3 [00:12<00:00,  4.25s/it]\n",
                  "                 Class     Images  Instances      Box(P          R      mAP50  mAP50-95): 100%|██████████| 1/1 [00:01<00:00,  1.81s/it]"
               ]
            },
            {
               "name": "stdout",
               "output_type": "stream",
               "text": [
                  "                   all         12         12          1      0.161      0.859       0.67\n"
               ]
            },
            {
               "name": "stderr",
               "output_type": "stream",
               "text": [
                  "\n"
               ]
            },
            {
               "name": "stdout",
               "output_type": "stream",
               "text": [
                  "\n",
                  "      Epoch    GPU_mem   box_loss   cls_loss   dfl_loss  Instances       Size\n"
               ]
            },
            {
               "name": "stderr",
               "output_type": "stream",
               "text": [
                  "     17/100         0G     0.7089      1.407      1.121         17        640: 100%|██████████| 3/3 [00:12<00:00,  4.27s/it]\n",
                  "                 Class     Images  Instances      Box(P          R      mAP50  mAP50-95): 100%|██████████| 1/1 [00:01<00:00,  1.68s/it]"
               ]
            },
            {
               "name": "stdout",
               "output_type": "stream",
               "text": [
                  "                   all         12         12          1      0.161      0.869      0.596\n"
               ]
            },
            {
               "name": "stderr",
               "output_type": "stream",
               "text": [
                  "\n"
               ]
            },
            {
               "name": "stdout",
               "output_type": "stream",
               "text": [
                  "\n",
                  "      Epoch    GPU_mem   box_loss   cls_loss   dfl_loss  Instances       Size\n"
               ]
            },
            {
               "name": "stderr",
               "output_type": "stream",
               "text": [
                  "     18/100         0G     0.6826      1.291      1.147         20        640: 100%|██████████| 3/3 [00:12<00:00,  4.26s/it]\n",
                  "                 Class     Images  Instances      Box(P          R      mAP50  mAP50-95): 100%|██████████| 1/1 [00:01<00:00,  1.64s/it]"
               ]
            },
            {
               "name": "stdout",
               "output_type": "stream",
               "text": [
                  "                   all         12         12      0.778     0.0833      0.791      0.536\n"
               ]
            },
            {
               "name": "stderr",
               "output_type": "stream",
               "text": [
                  "\n"
               ]
            },
            {
               "name": "stdout",
               "output_type": "stream",
               "text": [
                  "\n",
                  "      Epoch    GPU_mem   box_loss   cls_loss   dfl_loss  Instances       Size\n"
               ]
            },
            {
               "name": "stderr",
               "output_type": "stream",
               "text": [
                  "     19/100         0G     0.7535      1.255      1.165         20        640: 100%|██████████| 3/3 [00:12<00:00,  4.33s/it]\n",
                  "                 Class     Images  Instances      Box(P          R      mAP50  mAP50-95): 100%|██████████| 1/1 [00:01<00:00,  1.81s/it]"
               ]
            },
            {
               "name": "stdout",
               "output_type": "stream",
               "text": [
                  "                   all         12         12      0.781     0.0833      0.671       0.45\n"
               ]
            },
            {
               "name": "stderr",
               "output_type": "stream",
               "text": [
                  "\n"
               ]
            },
            {
               "name": "stdout",
               "output_type": "stream",
               "text": [
                  "\n",
                  "      Epoch    GPU_mem   box_loss   cls_loss   dfl_loss  Instances       Size\n"
               ]
            },
            {
               "name": "stderr",
               "output_type": "stream",
               "text": [
                  "     20/100         0G      0.746      1.474      1.092         15        640: 100%|██████████| 3/3 [00:15<00:00,  5.21s/it]\n",
                  "                 Class     Images  Instances      Box(P          R      mAP50  mAP50-95): 100%|██████████| 1/1 [00:01<00:00,  1.54s/it]"
               ]
            },
            {
               "name": "stdout",
               "output_type": "stream",
               "text": [
                  "                   all         12         12          1      0.158      0.737       0.43\n"
               ]
            },
            {
               "name": "stderr",
               "output_type": "stream",
               "text": [
                  "\n"
               ]
            },
            {
               "name": "stdout",
               "output_type": "stream",
               "text": [
                  "\n",
                  "      Epoch    GPU_mem   box_loss   cls_loss   dfl_loss  Instances       Size\n"
               ]
            },
            {
               "name": "stderr",
               "output_type": "stream",
               "text": [
                  "     21/100         0G     0.7623        1.3      1.147         22        640: 100%|██████████| 3/3 [00:12<00:00,  4.25s/it]\n",
                  "                 Class     Images  Instances      Box(P          R      mAP50  mAP50-95): 100%|██████████| 1/1 [00:01<00:00,  1.73s/it]"
               ]
            },
            {
               "name": "stdout",
               "output_type": "stream",
               "text": [
                  "                   all         12         12      0.998      0.333      0.744      0.357\n"
               ]
            },
            {
               "name": "stderr",
               "output_type": "stream",
               "text": [
                  "\n"
               ]
            },
            {
               "name": "stdout",
               "output_type": "stream",
               "text": [
                  "\n",
                  "      Epoch    GPU_mem   box_loss   cls_loss   dfl_loss  Instances       Size\n"
               ]
            },
            {
               "name": "stderr",
               "output_type": "stream",
               "text": [
                  "     22/100         0G     0.7922       1.34      1.144         24        640: 100%|██████████| 3/3 [00:13<00:00,  4.45s/it]\n",
                  "                 Class     Images  Instances      Box(P          R      mAP50  mAP50-95): 100%|██████████| 1/1 [00:01<00:00,  1.88s/it]"
               ]
            },
            {
               "name": "stdout",
               "output_type": "stream",
               "text": [
                  "                   all         12         12      0.979      0.333      0.621      0.299\n"
               ]
            },
            {
               "name": "stderr",
               "output_type": "stream",
               "text": [
                  "\n"
               ]
            },
            {
               "name": "stdout",
               "output_type": "stream",
               "text": [
                  "\n",
                  "      Epoch    GPU_mem   box_loss   cls_loss   dfl_loss  Instances       Size\n"
               ]
            },
            {
               "name": "stderr",
               "output_type": "stream",
               "text": [
                  "     23/100         0G     0.7367      1.367      1.143         16        640: 100%|██████████| 3/3 [00:12<00:00,  4.27s/it]\n",
                  "                 Class     Images  Instances      Box(P          R      mAP50  mAP50-95): 100%|██████████| 1/1 [00:01<00:00,  1.65s/it]"
               ]
            },
            {
               "name": "stdout",
               "output_type": "stream",
               "text": [
                  "                   all         12         12      0.972       0.25      0.642      0.359\n"
               ]
            },
            {
               "name": "stderr",
               "output_type": "stream",
               "text": [
                  "\n"
               ]
            },
            {
               "name": "stdout",
               "output_type": "stream",
               "text": [
                  "\n",
                  "      Epoch    GPU_mem   box_loss   cls_loss   dfl_loss  Instances       Size\n"
               ]
            },
            {
               "name": "stderr",
               "output_type": "stream",
               "text": [
                  "     24/100         0G     0.7784      1.409      1.149         26        640: 100%|██████████| 3/3 [00:13<00:00,  4.34s/it]\n",
                  "                 Class     Images  Instances      Box(P          R      mAP50  mAP50-95): 100%|██████████| 1/1 [00:01<00:00,  1.63s/it]"
               ]
            },
            {
               "name": "stdout",
               "output_type": "stream",
               "text": [
                  "                   all         12         12      0.745      0.472      0.707      0.332\n"
               ]
            },
            {
               "name": "stderr",
               "output_type": "stream",
               "text": [
                  "\n"
               ]
            },
            {
               "name": "stdout",
               "output_type": "stream",
               "text": [
                  "\n",
                  "      Epoch    GPU_mem   box_loss   cls_loss   dfl_loss  Instances       Size\n"
               ]
            },
            {
               "name": "stderr",
               "output_type": "stream",
               "text": [
                  "     25/100         0G     0.7101      1.265      1.073         23        640: 100%|██████████| 3/3 [00:12<00:00,  4.15s/it]\n",
                  "                 Class     Images  Instances      Box(P          R      mAP50  mAP50-95): 100%|██████████| 1/1 [00:01<00:00,  1.61s/it]"
               ]
            },
            {
               "name": "stdout",
               "output_type": "stream",
               "text": [
                  "                   all         12         12       0.48        0.5       0.66      0.468\n"
               ]
            },
            {
               "name": "stderr",
               "output_type": "stream",
               "text": [
                  "\n"
               ]
            },
            {
               "name": "stdout",
               "output_type": "stream",
               "text": [
                  "\n",
                  "      Epoch    GPU_mem   box_loss   cls_loss   dfl_loss  Instances       Size\n"
               ]
            },
            {
               "name": "stderr",
               "output_type": "stream",
               "text": [
                  "     26/100         0G     0.7738      1.409       1.16         19        640: 100%|██████████| 3/3 [00:13<00:00,  4.39s/it]\n",
                  "                 Class     Images  Instances      Box(P          R      mAP50  mAP50-95): 100%|██████████| 1/1 [00:01<00:00,  1.58s/it]"
               ]
            },
            {
               "name": "stdout",
               "output_type": "stream",
               "text": [
                  "                   all         12         12      0.848       0.25      0.621      0.459\n"
               ]
            },
            {
               "name": "stderr",
               "output_type": "stream",
               "text": [
                  "\n"
               ]
            },
            {
               "name": "stdout",
               "output_type": "stream",
               "text": [
                  "\n",
                  "      Epoch    GPU_mem   box_loss   cls_loss   dfl_loss  Instances       Size\n"
               ]
            },
            {
               "name": "stderr",
               "output_type": "stream",
               "text": [
                  "     27/100         0G     0.7682      1.306      1.104         16        640: 100%|██████████| 3/3 [00:12<00:00,  4.06s/it]\n",
                  "                 Class     Images  Instances      Box(P          R      mAP50  mAP50-95): 100%|██████████| 1/1 [00:01<00:00,  1.65s/it]"
               ]
            },
            {
               "name": "stdout",
               "output_type": "stream",
               "text": [
                  "                   all         12         12      0.881       0.27      0.637       0.41\n"
               ]
            },
            {
               "name": "stderr",
               "output_type": "stream",
               "text": [
                  "\n"
               ]
            },
            {
               "name": "stdout",
               "output_type": "stream",
               "text": [
                  "\n",
                  "      Epoch    GPU_mem   box_loss   cls_loss   dfl_loss  Instances       Size\n"
               ]
            },
            {
               "name": "stderr",
               "output_type": "stream",
               "text": [
                  "     28/100         0G      0.649      1.199      1.102         22        640: 100%|██████████| 3/3 [00:09<00:00,  3.22s/it]\n",
                  "                 Class     Images  Instances      Box(P          R      mAP50  mAP50-95): 100%|██████████| 1/1 [00:01<00:00,  1.32s/it]"
               ]
            },
            {
               "name": "stdout",
               "output_type": "stream",
               "text": [
                  "                   all         12         12      0.433      0.744       0.65      0.413\n"
               ]
            },
            {
               "name": "stderr",
               "output_type": "stream",
               "text": [
                  "\n"
               ]
            },
            {
               "name": "stdout",
               "output_type": "stream",
               "text": [
                  "\n",
                  "      Epoch    GPU_mem   box_loss   cls_loss   dfl_loss  Instances       Size\n"
               ]
            },
            {
               "name": "stderr",
               "output_type": "stream",
               "text": [
                  "     29/100         0G     0.7837      1.505      1.187         17        640: 100%|██████████| 3/3 [00:12<00:00,  4.21s/it]\n",
                  "                 Class     Images  Instances      Box(P          R      mAP50  mAP50-95): 100%|██████████| 1/1 [00:01<00:00,  1.54s/it]"
               ]
            },
            {
               "name": "stdout",
               "output_type": "stream",
               "text": [
                  "                   all         12         12      0.433      0.744       0.65      0.413\n"
               ]
            },
            {
               "name": "stderr",
               "output_type": "stream",
               "text": [
                  "\n"
               ]
            },
            {
               "name": "stdout",
               "output_type": "stream",
               "text": [
                  "\n",
                  "      Epoch    GPU_mem   box_loss   cls_loss   dfl_loss  Instances       Size\n"
               ]
            },
            {
               "name": "stderr",
               "output_type": "stream",
               "text": [
                  "  0%|          | 0/3 [00:00<?, ?it/s]"
               ]
            }
         ],
         "source": [
            "# Start training\n",
            "results = model.train(**training_args)"
         ]
      },
      {
         "cell_type": "code",
         "execution_count": null,
         "metadata": {},
         "outputs": [],
         "source": [
            "# Save the trained model\n",
            "model.save(\"best_model.pt\")"
         ]
      },
      {
         "cell_type": "code",
         "execution_count": null,
         "metadata": {},
         "outputs": [],
         "source": [
            "# Optional: Evaluate the model on validation set\n",
            "val_results = model.val()"
         ]
      },
      {
         "cell_type": "code",
         "execution_count": null,
         "metadata": {},
         "outputs": [],
         "source": [
            "print(\"Training completed!\")\n",
            "print(f\"Best mAP: {val_results.box.map}\")"
         ]
      }
   ],
   "metadata": {
      "kernelspec": {
         "display_name": "fire",
         "language": "python",
         "name": "python3"
      },
      "language_info": {
         "codemirror_mode": {
            "name": "ipython",
            "version": 3
         },
         "file_extension": ".py",
         "mimetype": "text/x-python",
         "name": "python",
         "nbconvert_exporter": "python",
         "pygments_lexer": "ipython3",
         "version": "3.13.1"
      }
   },
   "nbformat": 4,
   "nbformat_minor": 2
}
